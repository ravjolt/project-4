{
  "nbformat": 4,
  "nbformat_minor": 0,
  "metadata": {
    "colab": {
      "name": "ETL.ipynb",
      "provenance": [],
      "collapsed_sections": [],
      "authorship_tag": "ABX9TyOouOWPMRhbMyx6ngFywwbR",
      "include_colab_link": true
    },
    "kernelspec": {
      "name": "python3",
      "display_name": "Python 3"
    },
    "language_info": {
      "name": "python"
    }
  },
  "cells": [
    {
      "cell_type": "markdown",
      "metadata": {
        "id": "view-in-github",
        "colab_type": "text"
      },
      "source": [
        "<a href=\"https://colab.research.google.com/github/ghhyc/Project-4/blob/main/ETL.ipynb\" target=\"_parent\"><img src=\"https://colab.research.google.com/assets/colab-badge.svg\" alt=\"Open In Colab\"/></a>"
      ]
    },
    {
      "cell_type": "markdown",
      "source": [
        "#The goal was to first Extract the two types of datasets Heart Disease and Multi Disease. Each dataset contained multiple .csv files which had to be Transformed by renaming and joining columns. Once Extraction and Transformation was complete,Loading part was accomplished."
      ],
      "metadata": {
        "id": "nBl9DsgboLHP"
      }
    },
    {
      "cell_type": "code",
      "execution_count": 1,
      "metadata": {
        "colab": {
          "base_uri": "https://localhost:8080/"
        },
        "id": "ZYYpxGVLRFwc",
        "outputId": "ad2e216e-0479-4859-daad-df3c6eababff"
      },
      "outputs": [
        {
          "output_type": "stream",
          "name": "stdout",
          "text": [
            "Hit:1 https://cloud.r-project.org/bin/linux/ubuntu bionic-cran40/ InRelease\n",
            "Ign:2 https://developer.download.nvidia.com/compute/cuda/repos/ubuntu1804/x86_64  InRelease\n",
            "Hit:3 http://security.ubuntu.com/ubuntu bionic-security InRelease\n",
            "Ign:4 https://developer.download.nvidia.com/compute/machine-learning/repos/ubuntu1804/x86_64  InRelease\n",
            "Hit:5 https://developer.download.nvidia.com/compute/cuda/repos/ubuntu1804/x86_64  Release\n",
            "Hit:6 https://developer.download.nvidia.com/compute/machine-learning/repos/ubuntu1804/x86_64  Release\n",
            "Hit:7 http://archive.ubuntu.com/ubuntu bionic InRelease\n",
            "Hit:8 http://ppa.launchpad.net/c2d4u.team/c2d4u4.0+/ubuntu bionic InRelease\n",
            "Hit:9 http://archive.ubuntu.com/ubuntu bionic-updates InRelease\n",
            "Hit:11 http://archive.ubuntu.com/ubuntu bionic-backports InRelease\n",
            "Hit:12 http://ppa.launchpad.net/cran/libgit2/ubuntu bionic InRelease\n",
            "Hit:14 http://ppa.launchpad.net/deadsnakes/ppa/ubuntu bionic InRelease\n",
            "Hit:15 http://ppa.launchpad.net/graphics-drivers/ppa/ubuntu bionic InRelease\n",
            "Reading package lists... Done\n"
          ]
        }
      ],
      "source": [
        "import os\n",
        "# Find the latest version of spark 3.0  from http://www.apache.org/dist/spark/ and enter as the spark version\n",
        "# For example:\n",
        "# spark_version = 'spark-3.0.3'\n",
        "spark_version = 'spark-3.2.1'\n",
        "os.environ['SPARK_VERSION']=spark_version\n",
        "\n",
        "# Install Spark and Java\n",
        "!apt-get update\n",
        "!apt-get install openjdk-8-jdk-headless -qq > /dev/null\n",
        "!wget -q http://www.apache.org/dist/spark/$SPARK_VERSION/$SPARK_VERSION-bin-hadoop2.7.tgz\n",
        "!tar xf $SPARK_VERSION-bin-hadoop2.7.tgz\n",
        "!pip install -q findspark\n",
        "\n",
        "# Set Environment Variables\n",
        "os.environ[\"JAVA_HOME\"] = \"/usr/lib/jvm/java-8-openjdk-amd64\"\n",
        "os.environ[\"SPARK_HOME\"] = f\"/content/{spark_version}-bin-hadoop2.7\"\n",
        "\n",
        "# Start a SparkSession\n",
        "import findspark\n",
        "findspark.init()"
      ]
    },
    {
      "cell_type": "code",
      "source": [
        "!wget https://jdbc.postgresql.org/download/postgresql-42.2.9.jar"
      ],
      "metadata": {
        "colab": {
          "base_uri": "https://localhost:8080/"
        },
        "id": "exnF2SQQRJLv",
        "outputId": "b9891abb-12e1-4246-f12a-6c2f28e3f9d1"
      },
      "execution_count": 2,
      "outputs": [
        {
          "output_type": "stream",
          "name": "stdout",
          "text": [
            "--2022-02-26 23:30:18--  https://jdbc.postgresql.org/download/postgresql-42.2.9.jar\n",
            "Resolving jdbc.postgresql.org (jdbc.postgresql.org)... 72.32.157.228, 2001:4800:3e1:1::228\n",
            "Connecting to jdbc.postgresql.org (jdbc.postgresql.org)|72.32.157.228|:443... connected.\n",
            "HTTP request sent, awaiting response... 200 OK\n",
            "Length: 914037 (893K) [application/java-archive]\n",
            "Saving to: ‘postgresql-42.2.9.jar.2’\n",
            "\n",
            "postgresql-42.2.9.j 100%[===================>] 892.61K  1.23MB/s    in 0.7s    \n",
            "\n",
            "2022-02-26 23:30:20 (1.23 MB/s) - ‘postgresql-42.2.9.jar.2’ saved [914037/914037]\n",
            "\n"
          ]
        }
      ]
    },
    {
      "cell_type": "code",
      "source": [
        "from pyspark.sql import SparkSession\n",
        "spark = SparkSession.builder.appName(\"Heart_Disease_predictions\").config(\"spark.driver.extraClassPath\",\"/content/postgresql-42.2.9.jar\").getOrCreate()"
      ],
      "metadata": {
        "id": "IR9fNAljRNmC"
      },
      "execution_count": 3,
      "outputs": []
    },
    {
      "cell_type": "markdown",
      "source": [
        "#Load Heart Disease data and combine to one dataframe."
      ],
      "metadata": {
        "id": "JNDqarhGbvOR"
      }
    },
    {
      "cell_type": "code",
      "source": [
        "# Read in data from S3 Buckets\n",
        "from pyspark import SparkFiles\n",
        "url=\"https://data-bootcamp-01.s3.us-west-1.amazonaws.com/Heart_Disease_Prediction.csv\"\n",
        "spark.sparkContext.addFile(url)\n",
        "prediction_df = spark.read.csv(SparkFiles.get(\"Heart_Disease_Prediction.csv\"), sep=\",\", header=True, inferSchema=True)\n",
        "\n",
        "# Show DataFrame\n",
        "prediction_df.show()"
      ],
      "metadata": {
        "colab": {
          "base_uri": "https://localhost:8080/"
        },
        "id": "SZbHo4QxRkDG",
        "outputId": "13ee7a72-08f5-4d52-d5cf-fe8bcb6787ec"
      },
      "execution_count": 4,
      "outputs": [
        {
          "output_type": "stream",
          "name": "stdout",
          "text": [
            "+---+---+---------------+---+-----------+------------+-----------+------+---------------+-------------+-----------+--------------------+--------+-------------+\n",
            "|age|Sex|Chest_pain_type| BP|Cholesterol|FBS_over_120|EKG_results|Max_HR|Exercise_angina|ST_depression|Slope_of_ST|Number_vessels_fluro|Thallium|Heart_Disease|\n",
            "+---+---+---------------+---+-----------+------------+-----------+------+---------------+-------------+-----------+--------------------+--------+-------------+\n",
            "| 70|  1|              4|130|        322|           0|          2|   109|              0|          2.4|          2|                   3|       3|     Presence|\n",
            "| 67|  0|              3|115|        564|           0|          2|   160|              0|          1.6|          2|                   0|       7|      Absence|\n",
            "| 57|  1|              2|124|        261|           0|          0|   141|              0|          0.3|          1|                   0|       7|     Presence|\n",
            "| 64|  1|              4|128|        263|           0|          0|   105|              1|          0.2|          2|                   1|       7|      Absence|\n",
            "| 74|  0|              2|120|        269|           0|          2|   121|              1|          0.2|          1|                   1|       3|      Absence|\n",
            "| 65|  1|              4|120|        177|           0|          0|   140|              0|          0.4|          1|                   0|       7|      Absence|\n",
            "| 56|  1|              3|130|        256|           1|          2|   142|              1|          0.6|          2|                   1|       6|     Presence|\n",
            "| 59|  1|              4|110|        239|           0|          2|   142|              1|          1.2|          2|                   1|       7|     Presence|\n",
            "| 60|  1|              4|140|        293|           0|          2|   170|              0|          1.2|          2|                   2|       7|     Presence|\n",
            "| 63|  0|              4|150|        407|           0|          2|   154|              0|          4.0|          2|                   3|       7|     Presence|\n",
            "| 59|  1|              4|135|        234|           0|          0|   161|              0|          0.5|          2|                   0|       7|      Absence|\n",
            "| 53|  1|              4|142|        226|           0|          2|   111|              1|          0.0|          1|                   0|       7|      Absence|\n",
            "| 44|  1|              3|140|        235|           0|          2|   180|              0|          0.0|          1|                   0|       3|      Absence|\n",
            "| 61|  1|              1|134|        234|           0|          0|   145|              0|          2.6|          2|                   2|       3|     Presence|\n",
            "| 57|  0|              4|128|        303|           0|          2|   159|              0|          0.0|          1|                   1|       3|      Absence|\n",
            "| 71|  0|              4|112|        149|           0|          0|   125|              0|          1.6|          2|                   0|       3|      Absence|\n",
            "| 46|  1|              4|140|        311|           0|          0|   120|              1|          1.8|          2|                   2|       7|     Presence|\n",
            "| 53|  1|              4|140|        203|           1|          2|   155|              1|          3.1|          3|                   0|       7|     Presence|\n",
            "| 64|  1|              1|110|        211|           0|          2|   144|              1|          1.8|          2|                   0|       3|      Absence|\n",
            "| 40|  1|              1|140|        199|           0|          0|   178|              1|          1.4|          1|                   0|       7|      Absence|\n",
            "+---+---+---------------+---+-----------+------------+-----------+------+---------------+-------------+-----------+--------------------+--------+-------------+\n",
            "only showing top 20 rows\n",
            "\n"
          ]
        }
      ]
    },
    {
      "cell_type": "code",
      "source": [
        "url=\"https://data-bootcamp-01.s3.us-west-1.amazonaws.com/heart_failure_clinical_records_dataset.csv\"\n",
        "spark.sparkContext.addFile(url)\n",
        "clinical_df = spark.read.csv(SparkFiles.get(\"heart_failure_clinical_records_dataset.csv\"), sep=\",\", header=True, inferSchema=True)\n",
        "\n",
        "# Show DataFrame\n",
        "clinical_df.show()"
      ],
      "metadata": {
        "colab": {
          "base_uri": "https://localhost:8080/"
        },
        "id": "ntJYOjrjTsz2",
        "outputId": "fe96beb7-de13-46a7-df1a-52d6f5a387f7"
      },
      "execution_count": 5,
      "outputs": [
        {
          "output_type": "stream",
          "name": "stdout",
          "text": [
            "+----+-------+------------------------+--------+-----------------+-------------------+---------+----------------+------------+---+-------+----+-----------+\n",
            "| age|anaemia|creatinine_phosphokinase|diabetes|ejection_fraction|high_blood_pressure|platelets|serum_creatinine|serum_sodium|sex|smoking|time|DEATH_EVENT|\n",
            "+----+-------+------------------------+--------+-----------------+-------------------+---------+----------------+------------+---+-------+----+-----------+\n",
            "|75.0|      0|                     582|       0|               20|                  1| 265000.0|             1.9|         130|  1|      0|   4|          1|\n",
            "|55.0|      0|                    7861|       0|               38|                  0|263358.03|             1.1|         136|  1|      0|   6|          1|\n",
            "|65.0|      0|                     146|       0|               20|                  0| 162000.0|             1.3|         129|  1|      1|   7|          1|\n",
            "|50.0|      1|                     111|       0|               20|                  0| 210000.0|             1.9|         137|  1|      0|   7|          1|\n",
            "|65.0|      1|                     160|       1|               20|                  0| 327000.0|             2.7|         116|  0|      0|   8|          1|\n",
            "|90.0|      1|                      47|       0|               40|                  1| 204000.0|             2.1|         132|  1|      1|   8|          1|\n",
            "|75.0|      1|                     246|       0|               15|                  0| 127000.0|             1.2|         137|  1|      0|  10|          1|\n",
            "|60.0|      1|                     315|       1|               60|                  0| 454000.0|             1.1|         131|  1|      1|  10|          1|\n",
            "|65.0|      0|                     157|       0|               65|                  0|263358.03|             1.5|         138|  0|      0|  10|          1|\n",
            "|80.0|      1|                     123|       0|               35|                  1| 388000.0|             9.4|         133|  1|      1|  10|          1|\n",
            "|75.0|      1|                      81|       0|               38|                  1| 368000.0|             4.0|         131|  1|      1|  10|          1|\n",
            "|62.0|      0|                     231|       0|               25|                  1| 253000.0|             0.9|         140|  1|      1|  10|          1|\n",
            "|45.0|      1|                     981|       0|               30|                  0| 136000.0|             1.1|         137|  1|      0|  11|          1|\n",
            "|50.0|      1|                     168|       0|               38|                  1| 276000.0|             1.1|         137|  1|      0|  11|          1|\n",
            "|49.0|      1|                      80|       0|               30|                  1| 427000.0|             1.0|         138|  0|      0|  12|          0|\n",
            "|82.0|      1|                     379|       0|               50|                  0|  47000.0|             1.3|         136|  1|      0|  13|          1|\n",
            "|87.0|      1|                     149|       0|               38|                  0| 262000.0|             0.9|         140|  1|      0|  14|          1|\n",
            "|45.0|      0|                     582|       0|               14|                  0| 166000.0|             0.8|         127|  1|      0|  14|          1|\n",
            "|70.0|      1|                     125|       0|               25|                  1| 237000.0|             1.0|         140|  0|      0|  15|          1|\n",
            "|48.0|      1|                     582|       1|               55|                  0|  87000.0|             1.9|         121|  0|      0|  15|          1|\n",
            "+----+-------+------------------------+--------+-----------------+-------------------+---------+----------------+------------+---+-------+----+-----------+\n",
            "only showing top 20 rows\n",
            "\n"
          ]
        }
      ]
    },
    {
      "cell_type": "code",
      "source": [
        "url=\"https://data-bootcamp-01.s3.us-west-1.amazonaws.com/heart.csv\"\n",
        "spark.sparkContext.addFile(url)\n",
        "heart_df = spark.read.csv(SparkFiles.get(\"heart.csv\"), sep=\",\", header=True, inferSchema=True)\n",
        "\n",
        "# Show DataFrame\n",
        "heart_df.show()"
      ],
      "metadata": {
        "colab": {
          "base_uri": "https://localhost:8080/"
        },
        "id": "7UEo5l5oU3Mc",
        "outputId": "bf71bbf5-1ce7-46be-e9ab-ee6c11ddcb0d"
      },
      "execution_count": 6,
      "outputs": [
        {
          "output_type": "stream",
          "name": "stdout",
          "text": [
            "+---+---+---+------+----+---+-------+--------+----+-------+---+---+-----+------+\n",
            "|age|sex| cp|trtbps|chol|fbs|restecg|thalachh|exng|oldpeak|slp|caa|thall|output|\n",
            "+---+---+---+------+----+---+-------+--------+----+-------+---+---+-----+------+\n",
            "| 63|  1|  3|   145| 233|  1|      0|     150|   0|    2.3|  0|  0|    1|     1|\n",
            "| 37|  1|  2|   130| 250|  0|      1|     187|   0|    3.5|  0|  0|    2|     1|\n",
            "| 41|  0|  1|   130| 204|  0|      0|     172|   0|    1.4|  2|  0|    2|     1|\n",
            "| 56|  1|  1|   120| 236|  0|      1|     178|   0|    0.8|  2|  0|    2|     1|\n",
            "| 57|  0|  0|   120| 354|  0|      1|     163|   1|    0.6|  2|  0|    2|     1|\n",
            "| 57|  1|  0|   140| 192|  0|      1|     148|   0|    0.4|  1|  0|    1|     1|\n",
            "| 56|  0|  1|   140| 294|  0|      0|     153|   0|    1.3|  1|  0|    2|     1|\n",
            "| 44|  1|  1|   120| 263|  0|      1|     173|   0|    0.0|  2|  0|    3|     1|\n",
            "| 52|  1|  2|   172| 199|  1|      1|     162|   0|    0.5|  2|  0|    3|     1|\n",
            "| 57|  1|  2|   150| 168|  0|      1|     174|   0|    1.6|  2|  0|    2|     1|\n",
            "| 54|  1|  0|   140| 239|  0|      1|     160|   0|    1.2|  2|  0|    2|     1|\n",
            "| 48|  0|  2|   130| 275|  0|      1|     139|   0|    0.2|  2|  0|    2|     1|\n",
            "| 49|  1|  1|   130| 266|  0|      1|     171|   0|    0.6|  2|  0|    2|     1|\n",
            "| 64|  1|  3|   110| 211|  0|      0|     144|   1|    1.8|  1|  0|    2|     1|\n",
            "| 58|  0|  3|   150| 283|  1|      0|     162|   0|    1.0|  2|  0|    2|     1|\n",
            "| 50|  0|  2|   120| 219|  0|      1|     158|   0|    1.6|  1|  0|    2|     1|\n",
            "| 58|  0|  2|   120| 340|  0|      1|     172|   0|    0.0|  2|  0|    2|     1|\n",
            "| 66|  0|  3|   150| 226|  0|      1|     114|   0|    2.6|  0|  0|    2|     1|\n",
            "| 43|  1|  0|   150| 247|  0|      1|     171|   0|    1.5|  2|  0|    2|     1|\n",
            "| 69|  0|  3|   140| 239|  0|      1|     151|   0|    1.8|  2|  2|    2|     1|\n",
            "+---+---+---+------+----+---+-------+--------+----+-------+---+---+-----+------+\n",
            "only showing top 20 rows\n",
            "\n"
          ]
        }
      ]
    },
    {
      "cell_type": "markdown",
      "source": [
        "#Join the prediction_df and clinical_df via \"age\""
      ],
      "metadata": {
        "id": "baPi7IeMYGO5"
      }
    },
    {
      "cell_type": "code",
      "source": [
        "# Join the  DataFrames\n",
        "joined_df= prediction_df.join(clinical_df, on=\"age\", how=\"inner\")\n",
        "joined_df.show()"
      ],
      "metadata": {
        "colab": {
          "base_uri": "https://localhost:8080/"
        },
        "id": "JErI8gXlWQE3",
        "outputId": "8384293e-5744-4e25-d314-39ac1d6f7e9c"
      },
      "execution_count": 8,
      "outputs": [
        {
          "output_type": "stream",
          "name": "stdout",
          "text": [
            "+---+---+---------------+---+-----------+------------+-----------+------+---------------+-------------+-----------+--------------------+--------+-------------+-------+------------------------+--------+-----------------+-------------------+---------+----------------+------------+---+-------+----+-----------+\n",
            "|age|Sex|Chest_pain_type| BP|Cholesterol|FBS_over_120|EKG_results|Max_HR|Exercise_angina|ST_depression|Slope_of_ST|Number_vessels_fluro|Thallium|Heart_Disease|anaemia|creatinine_phosphokinase|diabetes|ejection_fraction|high_blood_pressure|platelets|serum_creatinine|serum_sodium|sex|smoking|time|DEATH_EVENT|\n",
            "+---+---+---------------+---+-----------+------------+-----------+------+---------------+-------------+-----------+--------------------+--------+-------------+-------+------------------------+--------+-----------------+-------------------+---------+----------------+------------+---+-------+----+-----------+\n",
            "| 55|  1|              4|132|        353|           0|          0|   132|              1|          1.2|          2|                   1|       7|     Presence|      0|                    7861|       0|               38|                  0|263358.03|             1.1|         136|  1|      0|   6|          1|\n",
            "| 55|  1|              4|160|        289|           0|          2|   145|              1|          0.8|          2|                   1|       7|     Presence|      0|                    7861|       0|               38|                  0|263358.03|             1.1|         136|  1|      0|   6|          1|\n",
            "| 55|  0|              2|135|        250|           0|          2|   161|              0|          1.4|          2|                   0|       3|      Absence|      0|                    7861|       0|               38|                  0|263358.03|             1.1|         136|  1|      0|   6|          1|\n",
            "| 55|  1|              2|130|        262|           0|          0|   155|              0|          0.0|          1|                   0|       3|      Absence|      0|                    7861|       0|               38|                  0|263358.03|             1.1|         136|  1|      0|   6|          1|\n",
            "| 55|  1|              4|140|        217|           0|          0|   111|              1|          5.6|          3|                   0|       7|     Presence|      0|                    7861|       0|               38|                  0|263358.03|             1.1|         136|  1|      0|   6|          1|\n",
            "| 55|  0|              4|180|        327|           0|          1|   117|              1|          3.4|          2|                   0|       3|     Presence|      0|                    7861|       0|               38|                  0|263358.03|             1.1|         136|  1|      0|   6|          1|\n",
            "| 65|  0|              3|155|        269|           0|          0|   148|              0|          0.8|          1|                   0|       3|      Absence|      0|                     146|       0|               20|                  0| 162000.0|             1.3|         129|  1|      1|   7|          1|\n",
            "| 65|  1|              4|110|        248|           0|          2|   158|              0|          0.6|          1|                   2|       6|     Presence|      0|                     146|       0|               20|                  0| 162000.0|             1.3|         129|  1|      1|   7|          1|\n",
            "| 65|  1|              4|135|        254|           0|          2|   127|              0|          2.8|          2|                   1|       7|     Presence|      0|                     146|       0|               20|                  0| 162000.0|             1.3|         129|  1|      1|   7|          1|\n",
            "| 65|  1|              1|138|        282|           1|          2|   174|              0|          1.4|          2|                   1|       3|     Presence|      0|                     146|       0|               20|                  0| 162000.0|             1.3|         129|  1|      1|   7|          1|\n",
            "| 65|  0|              3|160|        360|           0|          2|   151|              0|          0.8|          1|                   0|       3|      Absence|      0|                     146|       0|               20|                  0| 162000.0|             1.3|         129|  1|      1|   7|          1|\n",
            "| 65|  0|              3|140|        417|           1|          2|   157|              0|          0.8|          1|                   1|       3|      Absence|      0|                     146|       0|               20|                  0| 162000.0|             1.3|         129|  1|      1|   7|          1|\n",
            "| 65|  0|              4|150|        225|           0|          2|   114|              0|          1.0|          2|                   3|       7|     Presence|      0|                     146|       0|               20|                  0| 162000.0|             1.3|         129|  1|      1|   7|          1|\n",
            "| 65|  1|              4|120|        177|           0|          0|   140|              0|          0.4|          1|                   0|       7|      Absence|      0|                     146|       0|               20|                  0| 162000.0|             1.3|         129|  1|      1|   7|          1|\n",
            "| 50|  1|              3|129|        196|           0|          0|   163|              0|          0.0|          1|                   0|       3|      Absence|      1|                     111|       0|               20|                  0| 210000.0|             1.9|         137|  1|      0|   7|          1|\n",
            "| 50|  0|              4|110|        254|           0|          2|   159|              0|          0.0|          1|                   0|       3|      Absence|      1|                     111|       0|               20|                  0| 210000.0|             1.9|         137|  1|      0|   7|          1|\n",
            "| 50|  0|              3|120|        219|           0|          0|   158|              0|          1.6|          2|                   0|       3|      Absence|      1|                     111|       0|               20|                  0| 210000.0|             1.9|         137|  1|      0|   7|          1|\n",
            "| 50|  1|              3|140|        233|           0|          0|   163|              0|          0.6|          2|                   1|       7|     Presence|      1|                     111|       0|               20|                  0| 210000.0|             1.9|         137|  1|      0|   7|          1|\n",
            "| 50|  0|              2|120|        244|           0|          0|   162|              0|          1.1|          1|                   0|       3|      Absence|      1|                     111|       0|               20|                  0| 210000.0|             1.9|         137|  1|      0|   7|          1|\n",
            "| 50|  1|              4|150|        243|           0|          2|   128|              0|          2.6|          2|                   0|       7|     Presence|      1|                     111|       0|               20|                  0| 210000.0|             1.9|         137|  1|      0|   7|          1|\n",
            "+---+---+---------------+---+-----------+------------+-----------+------+---------------+-------------+-----------+--------------------+--------+-------------+-------+------------------------+--------+-----------------+-------------------+---------+----------------+------------+---+-------+----+-----------+\n",
            "only showing top 20 rows\n",
            "\n"
          ]
        }
      ]
    },
    {
      "cell_type": "markdown",
      "source": [
        "#Join joined_df with heart_df via \"age\""
      ],
      "metadata": {
        "id": "JWtL8QiUYXDu"
      }
    },
    {
      "cell_type": "code",
      "source": [
        "# Join the  DataFrames\n",
        "heart_joined_df= joined_df.join(heart_df, on=\"age\", how=\"inner\")\n",
        "heart_joined_df.show()"
      ],
      "metadata": {
        "colab": {
          "base_uri": "https://localhost:8080/"
        },
        "id": "CouPNlIHYja6",
        "outputId": "d87b6ddf-1079-4447-ae7a-e0bf91dd12e7"
      },
      "execution_count": 12,
      "outputs": [
        {
          "output_type": "stream",
          "name": "stdout",
          "text": [
            "+---+---+---------------+---+-----------+------------+-----------+------+---------------+-------------+-----------+--------------------+--------+-------------+-------+------------------------+--------+-----------------+-------------------+---------+----------------+------------+---+-------+----+-----------+---+---+------+----+---+-------+--------+----+-------+---+---+-----+------+\n",
            "|age|Sex|Chest_pain_type| BP|Cholesterol|FBS_over_120|EKG_results|Max_HR|Exercise_angina|ST_depression|Slope_of_ST|Number_vessels_fluro|Thallium|Heart_Disease|anaemia|creatinine_phosphokinase|diabetes|ejection_fraction|high_blood_pressure|platelets|serum_creatinine|serum_sodium|sex|smoking|time|DEATH_EVENT|sex| cp|trtbps|chol|fbs|restecg|thalachh|exng|oldpeak|slp|caa|thall|output|\n",
            "+---+---+---------------+---+-----------+------------+-----------+------+---------------+-------------+-----------+--------------------+--------+-------------+-------+------------------------+--------+-----------------+-------------------+---------+----------------+------------+---+-------+----+-----------+---+---+------+----+---+-------+--------+----+-------+---+---+-----+------+\n",
            "| 55|  1|              4|132|        353|           0|          0|   132|              1|          1.2|          2|                   1|       7|     Presence|      0|                    7861|       0|               38|                  0|263358.03|             1.1|         136|  1|      0|   6|          1|  0|  0|   128| 205|  0|      2|     130|   1|    2.0|  1|  1|    3|     0|\n",
            "| 55|  1|              4|132|        353|           0|          0|   132|              1|          1.2|          2|                   1|       7|     Presence|      0|                    7861|       0|               38|                  0|263358.03|             1.1|         136|  1|      0|   6|          1|  0|  0|   180| 327|  0|      2|     117|   1|    3.4|  1|  0|    2|     0|\n",
            "| 55|  1|              4|132|        353|           0|          0|   132|              1|          1.2|          2|                   1|       7|     Presence|      0|                    7861|       0|               38|                  0|263358.03|             1.1|         136|  1|      0|   6|          1|  1|  0|   160| 289|  0|      0|     145|   1|    0.8|  1|  1|    3|     0|\n",
            "| 55|  1|              4|132|        353|           0|          0|   132|              1|          1.2|          2|                   1|       7|     Presence|      0|                    7861|       0|               38|                  0|263358.03|             1.1|         136|  1|      0|   6|          1|  1|  0|   140| 217|  0|      1|     111|   1|    5.6|  0|  0|    3|     0|\n",
            "| 55|  1|              4|132|        353|           0|          0|   132|              1|          1.2|          2|                   1|       7|     Presence|      0|                    7861|       0|               38|                  0|263358.03|             1.1|         136|  1|      0|   6|          1|  1|  0|   132| 353|  0|      1|     132|   1|    1.2|  1|  1|    3|     0|\n",
            "| 55|  1|              4|132|        353|           0|          0|   132|              1|          1.2|          2|                   1|       7|     Presence|      0|                    7861|       0|               38|                  0|263358.03|             1.1|         136|  1|      0|   6|          1|  0|  1|   132| 342|  0|      1|     166|   0|    1.2|  2|  0|    2|     1|\n",
            "| 55|  1|              4|132|        353|           0|          0|   132|              1|          1.2|          2|                   1|       7|     Presence|      0|                    7861|       0|               38|                  0|263358.03|             1.1|         136|  1|      0|   6|          1|  1|  1|   130| 262|  0|      1|     155|   0|    0.0|  2|  0|    2|     1|\n",
            "| 55|  1|              4|132|        353|           0|          0|   132|              1|          1.2|          2|                   1|       7|     Presence|      0|                    7861|       0|               38|                  0|263358.03|             1.1|         136|  1|      0|   6|          1|  0|  1|   135| 250|  0|      0|     161|   0|    1.4|  1|  0|    2|     1|\n",
            "| 55|  1|              4|160|        289|           0|          2|   145|              1|          0.8|          2|                   1|       7|     Presence|      0|                    7861|       0|               38|                  0|263358.03|             1.1|         136|  1|      0|   6|          1|  0|  0|   128| 205|  0|      2|     130|   1|    2.0|  1|  1|    3|     0|\n",
            "| 55|  1|              4|160|        289|           0|          2|   145|              1|          0.8|          2|                   1|       7|     Presence|      0|                    7861|       0|               38|                  0|263358.03|             1.1|         136|  1|      0|   6|          1|  0|  0|   180| 327|  0|      2|     117|   1|    3.4|  1|  0|    2|     0|\n",
            "| 55|  1|              4|160|        289|           0|          2|   145|              1|          0.8|          2|                   1|       7|     Presence|      0|                    7861|       0|               38|                  0|263358.03|             1.1|         136|  1|      0|   6|          1|  1|  0|   160| 289|  0|      0|     145|   1|    0.8|  1|  1|    3|     0|\n",
            "| 55|  1|              4|160|        289|           0|          2|   145|              1|          0.8|          2|                   1|       7|     Presence|      0|                    7861|       0|               38|                  0|263358.03|             1.1|         136|  1|      0|   6|          1|  1|  0|   140| 217|  0|      1|     111|   1|    5.6|  0|  0|    3|     0|\n",
            "| 55|  1|              4|160|        289|           0|          2|   145|              1|          0.8|          2|                   1|       7|     Presence|      0|                    7861|       0|               38|                  0|263358.03|             1.1|         136|  1|      0|   6|          1|  1|  0|   132| 353|  0|      1|     132|   1|    1.2|  1|  1|    3|     0|\n",
            "| 55|  1|              4|160|        289|           0|          2|   145|              1|          0.8|          2|                   1|       7|     Presence|      0|                    7861|       0|               38|                  0|263358.03|             1.1|         136|  1|      0|   6|          1|  0|  1|   132| 342|  0|      1|     166|   0|    1.2|  2|  0|    2|     1|\n",
            "| 55|  1|              4|160|        289|           0|          2|   145|              1|          0.8|          2|                   1|       7|     Presence|      0|                    7861|       0|               38|                  0|263358.03|             1.1|         136|  1|      0|   6|          1|  1|  1|   130| 262|  0|      1|     155|   0|    0.0|  2|  0|    2|     1|\n",
            "| 55|  1|              4|160|        289|           0|          2|   145|              1|          0.8|          2|                   1|       7|     Presence|      0|                    7861|       0|               38|                  0|263358.03|             1.1|         136|  1|      0|   6|          1|  0|  1|   135| 250|  0|      0|     161|   0|    1.4|  1|  0|    2|     1|\n",
            "| 55|  0|              2|135|        250|           0|          2|   161|              0|          1.4|          2|                   0|       3|      Absence|      0|                    7861|       0|               38|                  0|263358.03|             1.1|         136|  1|      0|   6|          1|  0|  0|   128| 205|  0|      2|     130|   1|    2.0|  1|  1|    3|     0|\n",
            "| 55|  0|              2|135|        250|           0|          2|   161|              0|          1.4|          2|                   0|       3|      Absence|      0|                    7861|       0|               38|                  0|263358.03|             1.1|         136|  1|      0|   6|          1|  0|  0|   180| 327|  0|      2|     117|   1|    3.4|  1|  0|    2|     0|\n",
            "| 55|  0|              2|135|        250|           0|          2|   161|              0|          1.4|          2|                   0|       3|      Absence|      0|                    7861|       0|               38|                  0|263358.03|             1.1|         136|  1|      0|   6|          1|  1|  0|   160| 289|  0|      0|     145|   1|    0.8|  1|  1|    3|     0|\n",
            "| 55|  0|              2|135|        250|           0|          2|   161|              0|          1.4|          2|                   0|       3|      Absence|      0|                    7861|       0|               38|                  0|263358.03|             1.1|         136|  1|      0|   6|          1|  1|  0|   140| 217|  0|      1|     111|   1|    5.6|  0|  0|    3|     0|\n",
            "+---+---+---------------+---+-----------+------------+-----------+------+---------------+-------------+-----------+--------------------+--------+-------------+-------+------------------------+--------+-----------------+-------------------+---------+----------------+------------+---+-------+----+-----------+---+---+------+----+---+-------+--------+----+-------+---+---+-----+------+\n",
            "only showing top 20 rows\n",
            "\n"
          ]
        }
      ]
    },
    {
      "cell_type": "code",
      "source": [
        "print(heart_joined_df.count())"
      ],
      "metadata": {
        "colab": {
          "base_uri": "https://localhost:8080/"
        },
        "id": "a-qan24sYuh8",
        "outputId": "3df2351f-0fe3-489f-9f6d-656eb8c4bc50"
      },
      "execution_count": 13,
      "outputs": [
        {
          "output_type": "stream",
          "name": "stdout",
          "text": [
            "19177\n"
          ]
        }
      ]
    },
    {
      "cell_type": "code",
      "source": [
        "heart_joined_df.printSchema()"
      ],
      "metadata": {
        "colab": {
          "base_uri": "https://localhost:8080/"
        },
        "id": "FVhOAdXYahxc",
        "outputId": "815e3c56-f6ed-4f2d-aa5e-9c4487cbf315"
      },
      "execution_count": 14,
      "outputs": [
        {
          "output_type": "stream",
          "name": "stdout",
          "text": [
            "root\n",
            " |-- age: integer (nullable = true)\n",
            " |-- Sex: integer (nullable = true)\n",
            " |-- Chest_pain_type: integer (nullable = true)\n",
            " |-- BP: integer (nullable = true)\n",
            " |-- Cholesterol: integer (nullable = true)\n",
            " |-- FBS_over_120: integer (nullable = true)\n",
            " |-- EKG_results: integer (nullable = true)\n",
            " |-- Max_HR: integer (nullable = true)\n",
            " |-- Exercise_angina: integer (nullable = true)\n",
            " |-- ST_depression: double (nullable = true)\n",
            " |-- Slope_of_ST: integer (nullable = true)\n",
            " |-- Number_vessels_fluro: integer (nullable = true)\n",
            " |-- Thallium: integer (nullable = true)\n",
            " |-- Heart_Disease: string (nullable = true)\n",
            " |-- anaemia: integer (nullable = true)\n",
            " |-- creatinine_phosphokinase: integer (nullable = true)\n",
            " |-- diabetes: integer (nullable = true)\n",
            " |-- ejection_fraction: integer (nullable = true)\n",
            " |-- high_blood_pressure: integer (nullable = true)\n",
            " |-- platelets: double (nullable = true)\n",
            " |-- serum_creatinine: double (nullable = true)\n",
            " |-- serum_sodium: integer (nullable = true)\n",
            " |-- sex: integer (nullable = true)\n",
            " |-- smoking: integer (nullable = true)\n",
            " |-- time: integer (nullable = true)\n",
            " |-- DEATH_EVENT: integer (nullable = true)\n",
            " |-- sex: integer (nullable = true)\n",
            " |-- cp: integer (nullable = true)\n",
            " |-- trtbps: integer (nullable = true)\n",
            " |-- chol: integer (nullable = true)\n",
            " |-- fbs: integer (nullable = true)\n",
            " |-- restecg: integer (nullable = true)\n",
            " |-- thalachh: integer (nullable = true)\n",
            " |-- exng: integer (nullable = true)\n",
            " |-- oldpeak: double (nullable = true)\n",
            " |-- slp: integer (nullable = true)\n",
            " |-- caa: integer (nullable = true)\n",
            " |-- thall: integer (nullable = true)\n",
            " |-- output: integer (nullable = true)\n",
            "\n"
          ]
        }
      ]
    },
    {
      "cell_type": "markdown",
      "source": [
        "#Load Disease Data"
      ],
      "metadata": {
        "id": "yDxtWjEnb2lG"
      }
    },
    {
      "cell_type": "code",
      "source": [
        "# Read in data from S3 Buckets\n",
        "from pyspark import SparkFiles\n",
        "url=\"https://data-bootcamp-01.s3.us-west-1.amazonaws.com/disease_occurrences.csv\"\n",
        "spark.sparkContext.addFile(url)\n",
        "occurrences_df = spark.read.csv(SparkFiles.get(\"disease_occurrences.csv\"), sep=\",\", header=True, inferSchema=True)\n",
        "\n",
        "# Show DataFrame\n",
        "occurrences_df.show()"
      ],
      "metadata": {
        "colab": {
          "base_uri": "https://localhost:8080/"
        },
        "id": "mk86IX5NbJF3",
        "outputId": "2291d702-98c2-4aeb-b2dc-d125b311b5ba"
      },
      "execution_count": 17,
      "outputs": [
        {
          "output_type": "stream",
          "name": "stdout",
          "text": [
            "+---+--------------------+----+\n",
            "|_c0|                   0|   1|\n",
            "+---+--------------------+----+\n",
            "|  0|hypertensive  dis...|3363|\n",
            "|  1|            diabetes|1421|\n",
            "|  2|  depression  mental|1337|\n",
            "|  3| depressive disorder|1337|\n",
            "|  4|coronary  arterio...|1284|\n",
            "|  5|coronary heart di...|1284|\n",
            "|  6|           pneumonia|1029|\n",
            "|  7|failure  heart co...| 963|\n",
            "|  8|accident  cerebro...| 885|\n",
            "|  9|              asthma| 835|\n",
            "| 10|myocardial  infar...| 759|\n",
            "| 11|hypercholesterolemia| 685|\n",
            "| 12|           infection| 630|\n",
            "| 13|infection  urinar...| 597|\n",
            "| 14|              anemia| 544|\n",
            "| 15|chronic  obstruct...| 524|\n",
            "| 16|            dementia| 504|\n",
            "| 17|insufficiency  renal| 445|\n",
            "| 18|           confusion| 408|\n",
            "| 19|degenerative  pol...| 405|\n",
            "+---+--------------------+----+\n",
            "only showing top 20 rows\n",
            "\n"
          ]
        }
      ]
    },
    {
      "cell_type": "markdown",
      "source": [
        "#Renamed the above columns to \"count\", \"diseases\", \"total\""
      ],
      "metadata": {
        "id": "GXny_49ihB-P"
      }
    },
    {
      "cell_type": "code",
      "source": [
        "occurrences_df=occurrences_df.withColumnRenamed(\"_c0\", \"count\")\\\n",
        "                             .withColumnRenamed(\"0\", \"diseases\")\\\n",
        "                             .withColumnRenamed(\"1\", \"total\")\n",
        "occurrences_df.show(10)"
      ],
      "metadata": {
        "colab": {
          "base_uri": "https://localhost:8080/"
        },
        "id": "0y1-e0Nmf6Q7",
        "outputId": "a987d2f4-8bfc-4bfa-e8e3-eec31c549b39"
      },
      "execution_count": 23,
      "outputs": [
        {
          "output_type": "stream",
          "name": "stdout",
          "text": [
            "+-----+--------------------+-----+\n",
            "|count|            diseases|total|\n",
            "+-----+--------------------+-----+\n",
            "|    0|hypertensive  dis...| 3363|\n",
            "|    1|            diabetes| 1421|\n",
            "|    2|  depression  mental| 1337|\n",
            "|    3| depressive disorder| 1337|\n",
            "|    4|coronary  arterio...| 1284|\n",
            "|    5|coronary heart di...| 1284|\n",
            "|    6|           pneumonia| 1029|\n",
            "|    7|failure  heart co...|  963|\n",
            "|    8|accident  cerebro...|  885|\n",
            "|    9|              asthma|  835|\n",
            "+-----+--------------------+-----+\n",
            "only showing top 10 rows\n",
            "\n"
          ]
        }
      ]
    },
    {
      "cell_type": "code",
      "source": [
        "# Read in data from S3 Buckets\n",
        "from pyspark import SparkFiles\n",
        "url=\"https://data-bootcamp-01.s3.us-west-1.amazonaws.com/disease_symptoms.csv\"\n",
        "spark.sparkContext.addFile(url)\n",
        "symptoms_df = spark.read.csv(SparkFiles.get(\"disease_symptoms.csv\"), sep=\",\", header=True, inferSchema=True)\n",
        "\n",
        "# Show DataFrame\n",
        "symptoms_df.show()"
      ],
      "metadata": {
        "colab": {
          "base_uri": "https://localhost:8080/"
        },
        "id": "8P3H_uaNchOq",
        "outputId": "0050d7ba-468c-44e0-cb00-b1ba4388b827"
      },
      "execution_count": 18,
      "outputs": [
        {
          "output_type": "stream",
          "name": "stdout",
          "text": [
            "+---+--------------------+--------------------+\n",
            "|_c0|                   0|                   1|\n",
            "+---+--------------------+--------------------+\n",
            "|  0|hypertensive  dis...|['pain  chest', '...|\n",
            "|  1|            diabetes|['polyuria', 'pol...|\n",
            "|  2|  depression  mental|['feeling  suicid...|\n",
            "|  3| depressive disorder|['feeling  suicid...|\n",
            "|  4|coronary  arterio...|['pain  chest', '...|\n",
            "|  5|coronary heart di...|['pain  chest', '...|\n",
            "|  6|           pneumonia|['cough', 'fever'...|\n",
            "|  7|failure  heart co...|['shortness  of b...|\n",
            "|  8|accident  cerebro...|['dysarthria', 'a...|\n",
            "|  9|              asthma|['wheezing', 'cou...|\n",
            "| 10|myocardial  infar...|['pain chest', 's...|\n",
            "| 11|hypercholesterolemia|['pain', 'pain ch...|\n",
            "| 12|           infection|['fever', 'erythe...|\n",
            "| 13|infection  urinar...|['fever', 'dysuri...|\n",
            "| 14|              anemia|['chill', 'guaiac...|\n",
            "| 15|chronic  obstruct...|['shortness of br...|\n",
            "| 16|            dementia|['fever', 'fall',...|\n",
            "| 17|insufficiency  renal|['shortness of br...|\n",
            "| 18|           confusion|['seizure', 'enur...|\n",
            "| 19|degenerative  pol...|['pain', 'food  i...|\n",
            "+---+--------------------+--------------------+\n",
            "only showing top 20 rows\n",
            "\n"
          ]
        }
      ]
    },
    {
      "cell_type": "markdown",
      "source": [
        "#Renamed the above columns to \"count\", \"diseases\", \"total\""
      ],
      "metadata": {
        "id": "ZZ-lN3cuh4yg"
      }
    },
    {
      "cell_type": "code",
      "source": [
        "symptoms_df=symptoms_df.withColumnRenamed(\"_c0\", \"count\")\\\n",
        "                             .withColumnRenamed(\"0\", \"diseases\")\\\n",
        "                             .withColumnRenamed(\"1\", \"symptoms\")\n",
        "symptoms_df.show(10)"
      ],
      "metadata": {
        "colab": {
          "base_uri": "https://localhost:8080/"
        },
        "id": "pfGw_p_0hWc-",
        "outputId": "63416c73-f444-4fb0-b5b2-63afb05b0572"
      },
      "execution_count": 24,
      "outputs": [
        {
          "output_type": "stream",
          "name": "stdout",
          "text": [
            "+-----+--------------------+--------------------+\n",
            "|count|            diseases|            symptoms|\n",
            "+-----+--------------------+--------------------+\n",
            "|    0|hypertensive  dis...|['pain  chest', '...|\n",
            "|    1|            diabetes|['polyuria', 'pol...|\n",
            "|    2|  depression  mental|['feeling  suicid...|\n",
            "|    3| depressive disorder|['feeling  suicid...|\n",
            "|    4|coronary  arterio...|['pain  chest', '...|\n",
            "|    5|coronary heart di...|['pain  chest', '...|\n",
            "|    6|           pneumonia|['cough', 'fever'...|\n",
            "|    7|failure  heart co...|['shortness  of b...|\n",
            "|    8|accident  cerebro...|['dysarthria', 'a...|\n",
            "|    9|              asthma|['wheezing', 'cou...|\n",
            "+-----+--------------------+--------------------+\n",
            "only showing top 10 rows\n",
            "\n"
          ]
        }
      ]
    },
    {
      "cell_type": "code",
      "source": [
        "# Read in data from S3 Buckets\n",
        "from pyspark import SparkFiles\n",
        "url=\"https://data-bootcamp-01.s3.us-west-1.amazonaws.com/disease_symptoms_network.csv\"\n",
        "spark.sparkContext.addFile(url)\n",
        "symptoms_network_df = spark.read.csv(SparkFiles.get(\"disease_symptoms_network.csv\"), sep=\",\", header=True, inferSchema=True)\n",
        "\n",
        "# Show DataFrame\n",
        "symptoms_network_df.show()"
      ],
      "metadata": {
        "colab": {
          "base_uri": "https://localhost:8080/"
        },
        "id": "cZJI4g3WebRi",
        "outputId": "ab91bf5e-b2dc-4785-e975-ba6ab2fd65a9"
      },
      "execution_count": 20,
      "outputs": [
        {
          "output_type": "stream",
          "name": "stdout",
          "text": [
            "+---+--------------------+--------------------+\n",
            "|_c0|            diseases|            symptoms|\n",
            "+---+--------------------+--------------------+\n",
            "|  0|hypertensive  dis...|         pain  chest|\n",
            "|  1|hypertensive  dis...|shortness  of breath|\n",
            "|  2|hypertensive  dis...|           dizziness|\n",
            "|  3|hypertensive  dis...|            asthenia|\n",
            "|  4|hypertensive  dis...|                fall|\n",
            "|  5|hypertensive  dis...|             syncope|\n",
            "|  6|hypertensive  dis...|             vertigo|\n",
            "|  7|hypertensive  dis...|sweat sweating  i...|\n",
            "|  8|hypertensive  dis...|         palpitation|\n",
            "|  9|hypertensive  dis...|              nausea|\n",
            "| 10|hypertensive  dis...|    angina  pectoris|\n",
            "| 11|hypertensive  dis...|     pressure  chest|\n",
            "| 12|            diabetes|            polyuria|\n",
            "| 13|            diabetes|          polydypsia|\n",
            "| 14|            diabetes|shortness  of breath|\n",
            "| 15|            diabetes|         pain  chest|\n",
            "| 16|            diabetes|            asthenia|\n",
            "| 17|            diabetes|              nausea|\n",
            "| 18|            diabetes|           orthopnea|\n",
            "| 19|            diabetes|                rale|\n",
            "+---+--------------------+--------------------+\n",
            "only showing top 20 rows\n",
            "\n"
          ]
        }
      ]
    },
    {
      "cell_type": "code",
      "source": [
        "symptoms_network_df=symptoms_df.withColumnRenamed(\"_c0\", \"count\")\n",
        "                             \n",
        "symptoms_network_df.show(10)"
      ],
      "metadata": {
        "colab": {
          "base_uri": "https://localhost:8080/"
        },
        "id": "fpaPhRmfiHfb",
        "outputId": "99ed30f3-b435-4dcd-e11d-77f466111788"
      },
      "execution_count": 25,
      "outputs": [
        {
          "output_type": "stream",
          "name": "stdout",
          "text": [
            "+-----+--------------------+--------------------+\n",
            "|count|            diseases|            symptoms|\n",
            "+-----+--------------------+--------------------+\n",
            "|    0|hypertensive  dis...|['pain  chest', '...|\n",
            "|    1|            diabetes|['polyuria', 'pol...|\n",
            "|    2|  depression  mental|['feeling  suicid...|\n",
            "|    3| depressive disorder|['feeling  suicid...|\n",
            "|    4|coronary  arterio...|['pain  chest', '...|\n",
            "|    5|coronary heart di...|['pain  chest', '...|\n",
            "|    6|           pneumonia|['cough', 'fever'...|\n",
            "|    7|failure  heart co...|['shortness  of b...|\n",
            "|    8|accident  cerebro...|['dysarthria', 'a...|\n",
            "|    9|              asthma|['wheezing', 'cou...|\n",
            "+-----+--------------------+--------------------+\n",
            "only showing top 10 rows\n",
            "\n"
          ]
        }
      ]
    },
    {
      "cell_type": "markdown",
      "source": [
        "#Join occurrences_df, symptoms_df via count."
      ],
      "metadata": {
        "id": "UwnLz_Enijp4"
      }
    },
    {
      "cell_type": "code",
      "source": [
        "# Join the  DataFrames\n",
        "s1_joined_df= occurrences_df.join(symptoms_df, on=\"count\", how=\"inner\")\n",
        "\n",
        "s1_joined_df.show()"
      ],
      "metadata": {
        "colab": {
          "base_uri": "https://localhost:8080/"
        },
        "id": "4GE-o-Gkifnj",
        "outputId": "213577f9-b55b-49cc-ef5f-b829e30dad9b"
      },
      "execution_count": 34,
      "outputs": [
        {
          "output_type": "stream",
          "name": "stdout",
          "text": [
            "+-----+--------------------+-----+--------------------+--------------------+\n",
            "|count|            diseases|total|            diseases|            symptoms|\n",
            "+-----+--------------------+-----+--------------------+--------------------+\n",
            "|    0|hypertensive  dis...| 3363|hypertensive  dis...|['pain  chest', '...|\n",
            "|    1|            diabetes| 1421|            diabetes|['polyuria', 'pol...|\n",
            "|    2|  depression  mental| 1337|  depression  mental|['feeling  suicid...|\n",
            "|    3| depressive disorder| 1337| depressive disorder|['feeling  suicid...|\n",
            "|    4|coronary  arterio...| 1284|coronary  arterio...|['pain  chest', '...|\n",
            "|    5|coronary heart di...| 1284|coronary heart di...|['pain  chest', '...|\n",
            "|    6|           pneumonia| 1029|           pneumonia|['cough', 'fever'...|\n",
            "|    7|failure  heart co...|  963|failure  heart co...|['shortness  of b...|\n",
            "|    8|accident  cerebro...|  885|accident  cerebro...|['dysarthria', 'a...|\n",
            "|    9|              asthma|  835|              asthma|['wheezing', 'cou...|\n",
            "|   10|myocardial  infar...|  759|myocardial  infar...|['pain chest', 's...|\n",
            "|   11|hypercholesterolemia|  685|hypercholesterolemia|['pain', 'pain ch...|\n",
            "|   12|           infection|  630|           infection|['fever', 'erythe...|\n",
            "|   13|infection  urinar...|  597|infection  urinar...|['fever', 'dysuri...|\n",
            "|   14|              anemia|  544|              anemia|['chill', 'guaiac...|\n",
            "|   15|chronic  obstruct...|  524|chronic  obstruct...|['shortness of br...|\n",
            "|   16|            dementia|  504|            dementia|['fever', 'fall',...|\n",
            "|   17|insufficiency  renal|  445|insufficiency  renal|['shortness of br...|\n",
            "|   18|           confusion|  408|           confusion|['seizure', 'enur...|\n",
            "|   19|degenerative  pol...|  405|degenerative  pol...|['pain', 'food  i...|\n",
            "+-----+--------------------+-----+--------------------+--------------------+\n",
            "only showing top 20 rows\n",
            "\n"
          ]
        }
      ]
    },
    {
      "cell_type": "markdown",
      "source": [
        "#Join s1 and symptoms_network_df via count."
      ],
      "metadata": {
        "id": "eZ0m4u3vnYEZ"
      }
    },
    {
      "cell_type": "markdown",
      "source": [
        ""
      ],
      "metadata": {
        "id": "yiOpuQLinM4v"
      }
    },
    {
      "cell_type": "code",
      "source": [
        "# Join the  DataFrames\n",
        "s2_joined_df= s1_joined_df.join(symptoms_network_df, on=\"count\", how=\"inner\")\n",
        "\n",
        "s2_joined_df.show()"
      ],
      "metadata": {
        "colab": {
          "base_uri": "https://localhost:8080/"
        },
        "id": "oxZCRelCnMtC",
        "outputId": "881159f2-6698-48f8-bd43-88b8b0cfdc9c"
      },
      "execution_count": 36,
      "outputs": [
        {
          "output_type": "stream",
          "name": "stdout",
          "text": [
            "+-----+--------------------+-----+--------------------+--------------------+--------------------+--------------------+\n",
            "|count|            diseases|total|            diseases|            symptoms|            diseases|            symptoms|\n",
            "+-----+--------------------+-----+--------------------+--------------------+--------------------+--------------------+\n",
            "|    0|hypertensive  dis...| 3363|hypertensive  dis...|['pain  chest', '...|hypertensive  dis...|['pain  chest', '...|\n",
            "|    1|            diabetes| 1421|            diabetes|['polyuria', 'pol...|            diabetes|['polyuria', 'pol...|\n",
            "|    2|  depression  mental| 1337|  depression  mental|['feeling  suicid...|  depression  mental|['feeling  suicid...|\n",
            "|    3| depressive disorder| 1337| depressive disorder|['feeling  suicid...| depressive disorder|['feeling  suicid...|\n",
            "|    4|coronary  arterio...| 1284|coronary  arterio...|['pain  chest', '...|coronary  arterio...|['pain  chest', '...|\n",
            "|    5|coronary heart di...| 1284|coronary heart di...|['pain  chest', '...|coronary heart di...|['pain  chest', '...|\n",
            "|    6|           pneumonia| 1029|           pneumonia|['cough', 'fever'...|           pneumonia|['cough', 'fever'...|\n",
            "|    7|failure  heart co...|  963|failure  heart co...|['shortness  of b...|failure  heart co...|['shortness  of b...|\n",
            "|    8|accident  cerebro...|  885|accident  cerebro...|['dysarthria', 'a...|accident  cerebro...|['dysarthria', 'a...|\n",
            "|    9|              asthma|  835|              asthma|['wheezing', 'cou...|              asthma|['wheezing', 'cou...|\n",
            "|   10|myocardial  infar...|  759|myocardial  infar...|['pain chest', 's...|myocardial  infar...|['pain chest', 's...|\n",
            "|   11|hypercholesterolemia|  685|hypercholesterolemia|['pain', 'pain ch...|hypercholesterolemia|['pain', 'pain ch...|\n",
            "|   12|           infection|  630|           infection|['fever', 'erythe...|           infection|['fever', 'erythe...|\n",
            "|   13|infection  urinar...|  597|infection  urinar...|['fever', 'dysuri...|infection  urinar...|['fever', 'dysuri...|\n",
            "|   14|              anemia|  544|              anemia|['chill', 'guaiac...|              anemia|['chill', 'guaiac...|\n",
            "|   15|chronic  obstruct...|  524|chronic  obstruct...|['shortness of br...|chronic  obstruct...|['shortness of br...|\n",
            "|   16|            dementia|  504|            dementia|['fever', 'fall',...|            dementia|['fever', 'fall',...|\n",
            "|   17|insufficiency  renal|  445|insufficiency  renal|['shortness of br...|insufficiency  renal|['shortness of br...|\n",
            "|   18|           confusion|  408|           confusion|['seizure', 'enur...|           confusion|['seizure', 'enur...|\n",
            "|   19|degenerative  pol...|  405|degenerative  pol...|['pain', 'food  i...|degenerative  pol...|['pain', 'food  i...|\n",
            "+-----+--------------------+-----+--------------------+--------------------+--------------------+--------------------+\n",
            "only showing top 20 rows\n",
            "\n"
          ]
        }
      ]
    },
    {
      "cell_type": "code",
      "source": [
        "s2_joined_df.printSchema()"
      ],
      "metadata": {
        "colab": {
          "base_uri": "https://localhost:8080/"
        },
        "id": "Cv4dEnnYpgIm",
        "outputId": "95eaf112-9e8d-465d-a4f7-aa1e24bf22b9"
      },
      "execution_count": 37,
      "outputs": [
        {
          "output_type": "stream",
          "name": "stdout",
          "text": [
            "root\n",
            " |-- count: integer (nullable = true)\n",
            " |-- diseases: string (nullable = true)\n",
            " |-- total: integer (nullable = true)\n",
            " |-- diseases: string (nullable = true)\n",
            " |-- symptoms: string (nullable = true)\n",
            " |-- diseases: string (nullable = true)\n",
            " |-- symptoms: string (nullable = true)\n",
            "\n"
          ]
        }
      ]
    },
    {
      "cell_type": "code",
      "source": [
        "# Read in data from S3 Buckets\n",
        "from pyspark import SparkFiles\n",
        "url=\"https://data-bootcamp-01.s3.us-west-1.amazonaws.com/final_disease_symptom_data.csv\"\n",
        "spark.sparkContext.addFile(url)\n",
        "final_symptoms_df = spark.read.csv(SparkFiles.get(\"final_disease_symptom_data.csv\"), sep=\",\", header=True, inferSchema=True)\n",
        "\n",
        "# Show DataFrame\n",
        "final_symptoms_df.show()"
      ],
      "metadata": {
        "colab": {
          "base_uri": "https://localhost:8080/"
        },
        "id": "Q4jof2tAdNYh",
        "outputId": "685cd3f7-16ee-462e-f92e-0c9b0e43bdd2"
      },
      "execution_count": 19,
      "outputs": [
        {
          "output_type": "stream",
          "name": "stdout",
          "text": [
            "+---+--------------------+---------------+-------------+-------------+-------------+------------------+--------------------+------------------+----------------------------+---------------------------+--------+-----------------+----------------+---------+----+--------------+----------------+---------+---------------+---------------------+-----------------------------+-------------+----------------+---------------+--------+-------+-------+---------+----------+-------+---------+--------+------------+------+------+----+---------------+-------------+---------+--------------------+-----------------------------------------+--------+------+------------------+----------------------+-----------+------------+-----------------+------------------------+-----------------------+--------------------+-------------------+-----+------------------+-----------------+--------+------------+-----------------------+--------------------+---------+---------------+------------+----------------+----------------+---------------+-----+-----+-------------+-----------+------------+------+----------+---------------+-------------------+------------+---------------------+-----+-----------------+------------------+--------+-------------+------------+--------------+-----------------------+---------------------+-----------------------+----------------------+--------+----------+------------------------+--------------+------------------+-----------------+---------------------+--------------------+----------------+---------+------------+-----+----------+--------+----------+------------------+-----------+-----------+-------+--------------------+-------------------+-------+----------+--------+-------+--------------------+-----------------+----------------+--------+--------+------------+-----------------+----------+-------------------+------------------+---------------+--------------+----+------------+-------+---------------+---------+---------------+-----------------+-----------------+----------------+---------------+----------------+------------------+-----+-----+----------+------+--------+--------------+-----------------+----------------+-----------+-----+--------+-------------+---+------------------+-------------------+------------------+--------------------+----------+---------+----------+-------------+------------+------+---------------+------+-------------+-----------+-----------+------------------------+----------------------+-----------------------+---------------------+--------------------+--------+---------+-------------+----------+------------+--------------------+---------+-------------+----------------------+----------+----------------------+------------+------------------+---------+----------------------+-----+----------+------------+------------------+---------+------+-----------------+-----------+-----------+-----------+----------------------+------------+-----------+---------------+-------------+----------------+-----------+---------------+-------------------+-----------+-----------+--------------+------------+---------------+-----------+--------------------+---------+---------+--------+------------------+--------------------+----------+----------------+-----------------------------+------------+---------------+--------------+--------------------------+-------------------------+-----------------+--------+---------------------+-----------------------+------+--------+---------------+------------+------------------+-------------+-----------+--------------+------+-------+--------------+----------------------+-----------------+----------------------+---------------------+-----------------+-----+----+----------+-----------+---------------+--------------+-----+------------------+-----------------+----------------+-------------+-------+---------+---------+-----------------------+-------------+------+-------------------+--------------+---------+-----------+------------+-----------+---------+-----------------------+----------------+-----------------+---------------------+--------------------+---------+--------+-----------------+----------------+--------+---------+-----------+--------------+-------------+----------+----+-----------+--------------+---------+----------+---------+------------------+---------+------------------+------+-----------+-----+------------------+------+------+--------+-----------+-------+-----------+-------------+----------------------+------------------------+-----------+-----------+---------+----------------+---------------+--------------+------------+----------+-----------+--------+--------------+------------+--------------------+---------+------------------+---------------+--------------+----------------------+------------+--------+-----------------+----------------+-------------------+---------------+----------+-----------+--------+------------+----------------+-------+---------------------+--------------+----+---------------+-----------------------+------------+-------+-----------------------------+----------------------+---------+-----+------------+------------+--------+------------------------------------------+---------------+-------------+-------------+-----------+--------+---------------+-------------+---------+-------+------------------+-------------+--------------------+-------------------+---------+------------+-------------+------+-------------------------+------+-------+-----+-------+--------------------+-------------+-----+---------------+--------------+------------+--------------------------------+---------------+---------------------+--------------------+---------+------------------+------------------+-------+-----------+------+--------+---------------+-----+-------------------+------------------+--------+----------------------------+---------------------------+-------+------------------------+---------------+---------------+---------+--------+-------+-------+-----------+---------------------------+--------+-----+----------+--------------+--------------+-------------+-----------+------+--------------+-------------------+----------------------+---------------------+------------------+-----------------+--------------+-----------+-------+----------------+--------------+-------------+------+------------------+-----------------+----------------------+------------------+-------+-------------------------------+------------------------------+-------------------------+-------+--------------+--------+---------+-----------+----+----------------+--------+--------+-----+--------------+-------------+\n",
            "|_c0|            diseases|Heberden's node|Murphy's sign|Stahli's line|abdomen acute|abdominal bloating|abdominal tenderness|abnormal sensation|abnormally  hard consistency|abnormally hard consistency|abortion|abscess bacterial|absences finding|achalasia|ache|adverse effect|adverse reaction|agitation|air fluid level|alcohol binge episode|alcoholic withdrawal symptoms|ambidexterity|angina  pectoris|angina pectoris|anorexia|anosmia|aphagia|apyrexial|arthralgia|ascites|asterixis|asthenia|asymptomatic|ataxia|atypia|aura|awakening early|barking cough|bedridden|behavior hyperactive|behavior showing increased motor activity|blackout|blanch|bleeding of vagina|bowel sounds decreased|bradycardia|bradykinesia|breakthrough pain|breath  sounds decreased|breath sounds decreased|breath-holding spell|breech presentation|bruit|burning  sensation|burning sensation|cachexia|cardiomegaly|cardiovascular  finding|cardiovascular event|catatonia|catching breath|charleyhorse|chest  tightness|chest discomfort|chest tightness|chill|choke|cicatrisation|clammy skin|claudication|clonus|clumsiness|colic abdominal|consciousness clear|constipation|coordination abnormal|cough|cushingoid facies|cushingoid habitus|cyanosis|cystic lesion|debilitation|decompensation|decreased  translucency|decreased body weight|decreased stool caliber|decreased translucency|diarrhea|difficulty|difficulty passing urine|disequilibrium|distended  abdomen|distended abdomen|distress  respiratory|distress respiratory|disturbed family|dizziness|dizzy spells|drool|drowsiness|dullness|dysarthria|dysdiadochokinesia|dysesthesia|dyspareunia|dyspnea|dyspnea  on exertion|dyspnea on exertion|dysuria|ecchymosis|egophony|elation|emphysematous change|energy  increased|energy increased|enuresis|erythema|estrogen use|excruciating pain|exhaustion|extrapyramidal sign|extreme exhaustion|facial  paresis|facial paresis|fall|fatigability|fatigue|fear of falling|fecaluria|feces in rectum|feeling  hopeless|feeling  suicidal|feeling hopeless|feeling strange|feeling suicidal|feels hot/feverish|fever|flare|flatulence|floppy|flushing|focal seizures|food  intolerance|food intolerance|formication|frail|fremitus|frothy sputum|gag|gasping for breath|general  discomfort|general discomfort|general unsteadiness|giddy mood|gravida 0|gravida 10|green  sputum|green sputum|groggy|guaiac positive|gurgle|hacking cough|haemoptysis|haemorrhage|hallucinations  auditory|hallucinations  visual|hallucinations auditory|hallucinations visual|has religious belief|headache|heartburn|heavy feeling|heavy legs|hematochezia|hematocrit decreased|hematuria|heme positive|hemianopsia homonymous|hemiplegia|hemodynamically stable|hepatomegaly|hepatosplenomegaly|hirsutism|history  of - blackout|hoard|hoarseness|homelessness|homicidal thoughts|hot flush|hunger|hydropneumothorax|hyperacusis|hypercapnia|hyperemesis|hyperhidrosis disorder|hyperkalemia|hypersomnia|hypersomnolence|hypertonicity|hyperventilation|hypesthesia|hypoalbuminemia|hypocalcemia result|hypokalemia|hypokinesia|hypometabolism|hyponatremia|hypoproteinemia|hypotension|hypothermia, natural|hypotonic|hypoxemia|immobile|impaired cognition|inappropriate affect|incoherent|indifferent mood|intermenstrual heavy bleeding|intoxication|irritable  mood|irritable mood|jugular  venous distention|jugular venous distention|labored breathing|lameness|large-for-dates fetus|left atrial hypertrophy|lesion|lethargy|lightheadedness|lip smacking|loose associations|low back pain|lung nodule|macerated skin|macule|malaise|mass in breast|mass of body structure|mediastinal shift|mental  status changes|mental status changes|metastatic lesion|milky|moan|monoclonal|monocytosis|mood  depressed|mood depressed|moody|motor  retardation|motor retardation|muscle hypotonia|muscle twitch|myalgia|mydriasis|myoclonus|nasal discharge present|nasal flaring|nausea|nausea and vomiting|neck stiffness|neologism|nervousness|night  sweat|night sweat|nightmare|no known drug allergies|no status change|noisy respiration|non-productive  cough|non-productive cough|nonsmoker|numbness|numbness  of hand|numbness of hand|oliguria|orthopnea|orthostasis|out  of breath|out of breath|overweight|pain|pain  chest|pain abdominal|pain back|pain chest|pain foot|pain in lower limb|pain neck|painful swallowing|pallor|palpitation|panic|pansystolic murmur|para 1|para 2|paralyse|paraparesis|paresis|paresthesia|passed stones|patient non compliance|pericardial friction rub|phonophobia|photophobia|photopsia|pin-point pupils|pleuritic  pain|pleuritic pain|pneumatouria|polydypsia|polymyalgia|polyuria|poor dentition|poor feeding|posterior rhinorrhea|posturing|presence of q wave|pressure  chest|pressure chest|previous pregnancies 2|primigravida|prodrome|productive  cough|productive cough|projectile vomiting|prostate tender|prostatism|proteinemia|pruritus|pulse absent|pulsus paradoxus|pustule|qt interval prolonged|r wave feature|rale|rambling speech|rapid shallow breathing|red blotches|redness|regurgitates after swallowing|renal angle tenderness|rest pain|retch|retropulsion|rhd positive|rhonchus|rigor - temperature-associated observation|rolling of eyes|room spinning|satiety early|scar tissue|sciatica|scleral icterus|scratch marks|sedentary|seizure|sensory discomfort|shooting pain|shortness  of breath|shortness of breath|side pain|sinus rhythm|sleeplessness|sleepy|slowing of urinary stream|sneeze|sniffle|snore|snuffle|soft tissue swelling|sore to touch|spasm|speech  slurred|speech slurred|splenomegaly|spontaneous rupture of membranes|sputum purulent|st segment depression|st segment elevation|stiffness|stinging sensation|stool color yellow|stridor|stuffy nose|stupor|suicidal|superimposition|sweat|sweating  increased|sweating increased|swelling|symptom  aggravating factors|symptom aggravating factors|syncope|systolic ejection murmur|systolic murmur|t wave inverted|tachypnea|tenesmus|terrify|thicken|throat sore|throbbing sensation quality|tinnitus|tired|titubation|todd paralysis|tonic seizures|transaminitis|transsexual|tremor|tremor resting|tumor cell invasion|unable  to concentrate|unable to concentrate|unconscious  state|unconscious state|uncoordination|underweight|unhappy|unresponsiveness|unsteady  gait|unsteady gait|unwell|urge  incontinence|urge incontinence|urgency of micturition|urinary hesitation|urinoma|verbal  auditory hallucinations|verbal auditory hallucinations|verbally abusive behavior|vertigo|vision blurred|vomiting|weepiness|weight gain|welt|wheelchair bound|wheezing|withdraw|worry|yellow  sputum|yellow sputum|\n",
            "+---+--------------------+---------------+-------------+-------------+-------------+------------------+--------------------+------------------+----------------------------+---------------------------+--------+-----------------+----------------+---------+----+--------------+----------------+---------+---------------+---------------------+-----------------------------+-------------+----------------+---------------+--------+-------+-------+---------+----------+-------+---------+--------+------------+------+------+----+---------------+-------------+---------+--------------------+-----------------------------------------+--------+------+------------------+----------------------+-----------+------------+-----------------+------------------------+-----------------------+--------------------+-------------------+-----+------------------+-----------------+--------+------------+-----------------------+--------------------+---------+---------------+------------+----------------+----------------+---------------+-----+-----+-------------+-----------+------------+------+----------+---------------+-------------------+------------+---------------------+-----+-----------------+------------------+--------+-------------+------------+--------------+-----------------------+---------------------+-----------------------+----------------------+--------+----------+------------------------+--------------+------------------+-----------------+---------------------+--------------------+----------------+---------+------------+-----+----------+--------+----------+------------------+-----------+-----------+-------+--------------------+-------------------+-------+----------+--------+-------+--------------------+-----------------+----------------+--------+--------+------------+-----------------+----------+-------------------+------------------+---------------+--------------+----+------------+-------+---------------+---------+---------------+-----------------+-----------------+----------------+---------------+----------------+------------------+-----+-----+----------+------+--------+--------------+-----------------+----------------+-----------+-----+--------+-------------+---+------------------+-------------------+------------------+--------------------+----------+---------+----------+-------------+------------+------+---------------+------+-------------+-----------+-----------+------------------------+----------------------+-----------------------+---------------------+--------------------+--------+---------+-------------+----------+------------+--------------------+---------+-------------+----------------------+----------+----------------------+------------+------------------+---------+----------------------+-----+----------+------------+------------------+---------+------+-----------------+-----------+-----------+-----------+----------------------+------------+-----------+---------------+-------------+----------------+-----------+---------------+-------------------+-----------+-----------+--------------+------------+---------------+-----------+--------------------+---------+---------+--------+------------------+--------------------+----------+----------------+-----------------------------+------------+---------------+--------------+--------------------------+-------------------------+-----------------+--------+---------------------+-----------------------+------+--------+---------------+------------+------------------+-------------+-----------+--------------+------+-------+--------------+----------------------+-----------------+----------------------+---------------------+-----------------+-----+----+----------+-----------+---------------+--------------+-----+------------------+-----------------+----------------+-------------+-------+---------+---------+-----------------------+-------------+------+-------------------+--------------+---------+-----------+------------+-----------+---------+-----------------------+----------------+-----------------+---------------------+--------------------+---------+--------+-----------------+----------------+--------+---------+-----------+--------------+-------------+----------+----+-----------+--------------+---------+----------+---------+------------------+---------+------------------+------+-----------+-----+------------------+------+------+--------+-----------+-------+-----------+-------------+----------------------+------------------------+-----------+-----------+---------+----------------+---------------+--------------+------------+----------+-----------+--------+--------------+------------+--------------------+---------+------------------+---------------+--------------+----------------------+------------+--------+-----------------+----------------+-------------------+---------------+----------+-----------+--------+------------+----------------+-------+---------------------+--------------+----+---------------+-----------------------+------------+-------+-----------------------------+----------------------+---------+-----+------------+------------+--------+------------------------------------------+---------------+-------------+-------------+-----------+--------+---------------+-------------+---------+-------+------------------+-------------+--------------------+-------------------+---------+------------+-------------+------+-------------------------+------+-------+-----+-------+--------------------+-------------+-----+---------------+--------------+------------+--------------------------------+---------------+---------------------+--------------------+---------+------------------+------------------+-------+-----------+------+--------+---------------+-----+-------------------+------------------+--------+----------------------------+---------------------------+-------+------------------------+---------------+---------------+---------+--------+-------+-------+-----------+---------------------------+--------+-----+----------+--------------+--------------+-------------+-----------+------+--------------+-------------------+----------------------+---------------------+------------------+-----------------+--------------+-----------+-------+----------------+--------------+-------------+------+------------------+-----------------+----------------------+------------------+-------+-------------------------------+------------------------------+-------------------------+-------+--------------+--------+---------+-----------+----+----------------+--------+--------+-----+--------------+-------------+\n",
            "|  0|hypertensive  dis...|              0|            0|            0|            0|                 0|                   0|                 0|                           0|                          0|       0|                0|               0|        0|   0|             0|               0|        0|              0|                    0|                            0|            0|               1|              0|       0|      0|      0|        0|         0|      0|        0|       1|           0|     0|     0|   0|              0|            0|        0|                   0|                                        0|       0|     0|                 0|                     0|          0|           0|                0|                       0|                      0|                   0|                  0|    0|                 0|                0|       0|           0|                      0|                   0|        0|              0|           0|               0|               0|              0|    0|    0|            0|          0|           0|     0|         0|              0|                  0|           0|                    0|    0|                0|                 0|       0|            0|           0|             0|                      0|                    0|                      0|                     0|       0|         0|                       0|             0|                 0|                0|                    0|                   0|               0|        1|           0|    0|         0|       0|         0|                 0|          0|          0|      0|                   0|                  0|      0|         0|       0|      0|                   0|                0|               0|       0|       0|           0|                0|         0|                  0|                 0|              0|             0|   1|           0|      0|              0|        0|              0|                0|                0|               0|              0|               0|                 0|    0|    0|         0|     0|       0|             0|                0|               0|          0|    0|       0|            0|  0|                 0|                  0|                 0|                   0|         0|        0|         0|            0|           0|     0|              0|     0|            0|          0|          0|                       0|                     0|                      0|                    0|                   0|       0|        0|            0|         0|           0|                   0|        0|            0|                     0|         0|                     0|           0|                 0|        0|                     0|    0|         0|           0|                 0|        0|     0|                0|          0|          0|          0|                     0|           0|          0|              0|            0|               0|          0|              0|                  0|          0|          0|             0|           0|              0|          0|                   0|        0|        0|       0|                 0|                   0|         0|               0|                            0|           0|              0|             0|                         0|                        0|                0|       0|                    0|                      0|     0|       0|              0|           0|                 0|            0|          0|             0|     0|      0|             0|                     0|                0|                     0|                    0|                0|    0|   0|         0|          0|              0|             0|    0|                 0|                0|               0|            0|      0|        0|        0|                      0|            0|     1|                  0|             0|        0|          0|           0|          0|        0|                      0|               0|                0|                    0|                   0|        0|       0|                0|               0|       0|        0|          0|             0|            0|         0|   0|          1|             0|        0|         0|        0|                 0|        0|                 0|     0|          1|    0|                 0|     0|     0|       0|          0|      0|          0|            0|                     0|                       0|          0|          0|        0|               0|              0|             0|           0|         0|          0|       0|             0|           0|                   0|        0|                 0|              1|             0|                     0|           0|       0|                0|               0|                  0|              0|         0|          0|       0|           0|               0|      0|                    0|             0|   0|              0|                      0|           0|      0|                            0|                     0|        0|    0|           0|           0|       0|                                         0|              0|            0|            0|          0|       0|              0|            0|        0|      0|                 0|            0|                   1|                  0|        0|           0|            0|     0|                        0|     0|      0|    0|      0|                   0|            0|    0|              0|             0|           0|                               0|              0|                    0|                   0|        0|                 0|                 0|      0|          0|     0|       0|              0|    1|                  1|                 0|       0|                           0|                          0|      1|                       0|              0|              0|        0|       0|      0|      0|          0|                          0|       0|    0|         0|             0|             0|            0|          0|     0|             0|                  0|                     0|                    0|                 0|                0|             0|          0|      0|               0|             0|            0|     0|                 0|                0|                     0|                 0|      0|                              0|                             0|                        0|      1|             0|       0|        0|          0|   0|               0|       0|       0|    0|             0|            0|\n",
            "|  1|            diabetes|              0|            0|            0|            0|                 0|                   0|                 0|                           0|                          0|       0|                0|               0|        0|   0|             0|               0|        0|              0|                    0|                            0|            0|               0|              0|       0|      0|      0|        0|         0|      0|        0|       1|           0|     0|     0|   0|              0|            0|        0|                   0|                                        0|       0|     0|                 0|                     0|          0|           0|                0|                       0|                      0|                   0|                  0|    0|                 0|                0|       0|           0|                      0|                   0|        0|              0|           0|               0|               0|              0|    0|    0|            0|          0|           0|     0|         0|              0|                  0|           0|                    0|    0|                0|                 0|       0|            0|           0|             0|                      0|                    0|                      0|                     0|       0|         0|                       0|             0|                 0|                0|                    0|                   0|               0|        0|           0|    0|         0|       0|         0|                 0|          0|          0|      0|                   0|                  0|      0|         0|       0|      0|                   0|                0|               0|       0|       0|           0|                0|         0|                  0|                 0|              0|             0|   0|           0|      0|              0|        0|              0|                0|                0|               0|              0|               0|                 0|    0|    0|         0|     0|       0|             0|                0|               0|          0|    0|       0|            0|  0|                 0|                  0|                 0|                   0|         0|        0|         0|            0|           0|     0|              0|     0|            0|          0|          0|                       0|                     0|                      0|                    0|                   0|       0|        0|            0|         0|           0|                   0|        0|            0|                     0|         0|                     0|           0|                 0|        0|                     0|    0|         0|           0|                 0|        0|     0|                0|          0|          0|          0|                     0|           0|          0|              0|            0|               0|          0|              0|                  0|          0|          0|             0|           0|              0|          0|                   0|        0|        0|       0|                 0|                   0|         0|               0|                            0|           0|              0|             0|                         0|                        0|                1|       0|                    0|                      0|     0|       0|              0|           0|                 0|            0|          0|             0|     0|      0|             0|                     0|                0|                     1|                    0|                0|    0|   0|         0|          0|              0|             0|    0|                 0|                0|               0|            0|      0|        0|        0|                      0|            0|     1|                  0|             0|        0|          0|           0|          0|        0|                      0|               0|                0|                    0|                   0|        0|       0|                0|               0|       0|        1|          0|             0|            0|         0|   0|          1|             0|        0|         0|        0|                 0|        0|                 0|     0|          0|    0|                 0|     0|     0|       0|          0|      0|          0|            0|                     0|                       0|          0|          0|        0|               0|              0|             0|           0|         1|          0|       1|             0|           0|                   0|        0|                 0|              0|             0|                     0|           0|       0|                0|               0|                  0|              0|         0|          0|       0|           0|               0|      0|                    0|             0|   1|              0|                      0|           0|      0|                            0|                     0|        0|    0|           0|           0|       0|                                         0|              0|            0|            0|          0|       0|              0|            0|        0|      0|                 0|            0|                   1|                  0|        0|           0|            0|     0|                        0|     0|      0|    0|      0|                   0|            0|    0|              0|             0|           0|                               0|              0|                    0|                   0|        0|                 0|                 0|      0|          0|     0|       0|              0|    1|                  1|                 0|       0|                           0|                          0|      0|                       0|              0|              0|        0|       0|      0|      0|          0|                          0|       0|    0|         0|             0|             0|            0|          0|     0|             0|                  0|                     0|                    0|                 0|                0|             0|          0|      0|               1|             0|            0|     0|                 0|                0|                     0|                 0|      0|                              0|                             0|                        0|      1|             0|       1|        0|          0|   0|               0|       0|       0|    0|             0|            0|\n",
            "|  2|  depression  mental|              0|            0|            0|            0|                 0|                   0|                 0|                           0|                          0|       0|                0|               0|        0|   0|             0|               0|        1|              0|                    0|                            0|            0|               0|              0|       0|      0|      0|        0|         0|      0|        0|       0|           0|     0|     0|   0|              0|            0|        0|                   0|                                        0|       1|     0|                 0|                     0|          0|           0|                0|                       0|                      0|                   0|                  0|    0|                 0|                0|       0|           0|                      0|                   0|        0|              0|           0|               0|               0|              0|    0|    0|            0|          0|           0|     0|         0|              0|                  0|           0|                    0|    0|                0|                 0|       0|            0|           0|             0|                      0|                    0|                      0|                     0|       0|         1|                       0|             0|                 0|                0|                    0|                   0|               0|        0|           0|    0|         0|       0|         0|                 0|          0|          0|      0|                   0|                  0|      0|         0|       0|      0|                   0|                1|               0|       0|       0|           0|                0|         0|                  0|                 0|              0|             0|   0|           0|      0|              0|        0|              0|                1|                1|               0|              0|               0|                 0|    0|    0|         0|     0|       0|             0|                0|               0|          0|    0|       0|            0|  0|                 0|                  0|                 0|                   0|         0|        0|         0|            0|           0|     0|              0|     0|            0|          0|          0|                       1|                     1|                      0|                    0|                   0|       0|        0|            0|         0|           0|                   0|        0|            0|                     0|         0|                     0|           0|                 0|        0|                     0|    0|         0|           1|                 0|        0|     0|                0|          0|          0|          0|                     0|           0|          0|              0|            0|               0|          0|              0|                  0|          0|          0|             0|           0|              0|          0|                   0|        0|        0|       0|                 0|                   0|         0|               0|                            0|           1|              1|             0|                         0|                        0|                0|       0|                    0|                      0|     0|       0|              0|           0|                 0|            0|          0|             0|     0|      0|             0|                     0|                0|                     0|                    0|                0|    0|   0|         0|          0|              1|             0|    0|                 1|                0|               0|            0|      0|        0|        0|                      0|            0|     0|                  0|             0|        0|          0|           0|          0|        1|                      0|               0|                0|                    0|                   0|        0|       0|                0|               0|       0|        0|          0|             0|            0|         0|   0|          0|             0|        0|         0|        0|                 0|        0|                 0|     0|          0|    0|                 0|     0|     0|       0|          0|      0|          0|            0|                     0|                       0|          0|          0|        0|               0|              0|             0|           0|         0|          0|       0|             0|           0|                   0|        0|                 0|              0|             0|                     0|           0|       0|                0|               0|                  0|              0|         0|          0|       0|           0|               0|      0|                    0|             0|   0|              0|                      0|           0|      0|                            0|                     0|        0|    0|           0|           0|       0|                                         0|              0|            0|            0|          0|       0|              0|            0|        0|      0|                 0|            0|                   0|                  0|        0|           0|            1|     0|                        0|     0|      0|    0|      0|                   0|            0|    0|              0|             0|           0|                               0|              0|                    0|                   0|        0|                 0|                 0|      0|          0|     0|       1|              0|    0|                  0|                 0|       0|                           0|                          0|      0|                       0|              0|              0|        0|       0|      0|      0|          0|                          0|       0|    0|         0|             0|             0|            0|          0|     1|             0|                  0|                     1|                    0|                 0|                0|             0|          0|      0|               0|             0|            0|     0|                 0|                0|                     0|                 0|      0|                              1|                             0|                        0|      0|             0|       0|        1|          0|   0|               0|       0|       0|    1|             0|            0|\n",
            "|  3| depressive disorder|              0|            0|            0|            0|                 0|                   0|                 0|                           0|                          0|       0|                0|               0|        0|   0|             0|               0|        1|              0|                    0|                            0|            0|               0|              0|       0|      0|      0|        0|         0|      0|        0|       0|           0|     0|     0|   0|              0|            0|        0|                   0|                                        0|       1|     0|                 0|                     0|          0|           0|                0|                       0|                      0|                   0|                  0|    0|                 0|                0|       0|           0|                      0|                   0|        0|              0|           0|               0|               0|              0|    0|    0|            0|          0|           0|     0|         0|              0|                  0|           0|                    0|    0|                0|                 0|       0|            0|           0|             0|                      0|                    0|                      0|                     0|       0|         1|                       0|             0|                 0|                0|                    0|                   0|               0|        0|           0|    0|         0|       0|         0|                 0|          0|          0|      0|                   0|                  0|      0|         0|       0|      0|                   0|                1|               0|       0|       0|           0|                0|         0|                  0|                 0|              0|             0|   0|           0|      0|              0|        0|              0|                1|                1|               0|              0|               0|                 0|    0|    0|         0|     0|       0|             0|                0|               0|          0|    0|       0|            0|  0|                 0|                  0|                 0|                   0|         0|        0|         0|            0|           0|     0|              0|     0|            0|          0|          0|                       1|                     1|                      0|                    0|                   0|       0|        0|            0|         0|           0|                   0|        0|            0|                     0|         0|                     0|           0|                 0|        0|                     0|    0|         0|           1|                 0|        0|     0|                0|          0|          0|          0|                     0|           0|          0|              0|            0|               0|          0|              0|                  0|          0|          0|             0|           0|              0|          0|                   0|        0|        0|       0|                 0|                   0|         0|               0|                            0|           1|              1|             0|                         0|                        0|                0|       0|                    0|                      0|     0|       0|              0|           0|                 0|            0|          0|             0|     0|      0|             0|                     0|                0|                     0|                    0|                0|    0|   0|         0|          0|              1|             0|    0|                 1|                0|               0|            0|      0|        0|        0|                      0|            0|     0|                  0|             0|        0|          0|           0|          0|        1|                      0|               0|                0|                    0|                   0|        0|       0|                0|               0|       0|        0|          0|             0|            0|         0|   0|          0|             0|        0|         0|        0|                 0|        0|                 0|     0|          0|    0|                 0|     0|     0|       0|          0|      0|          0|            0|                     0|                       0|          0|          0|        0|               0|              0|             0|           0|         0|          0|       0|             0|           0|                   0|        0|                 0|              0|             0|                     0|           0|       0|                0|               0|                  0|              0|         0|          0|       0|           0|               0|      0|                    0|             0|   0|              0|                      0|           0|      0|                            0|                     0|        0|    0|           0|           0|       0|                                         0|              0|            0|            0|          0|       0|              0|            0|        0|      0|                 0|            0|                   0|                  0|        0|           0|            1|     0|                        0|     0|      0|    0|      0|                   0|            0|    0|              0|             0|           0|                               0|              0|                    0|                   0|        0|                 0|                 0|      0|          0|     0|       1|              0|    0|                  0|                 0|       0|                           0|                          0|      0|                       0|              0|              0|        0|       0|      0|      0|          0|                          0|       0|    0|         0|             0|             0|            0|          0|     1|             0|                  0|                     1|                    0|                 0|                0|             0|          0|      0|               0|             0|            0|     0|                 0|                0|                     0|                 0|      0|                              1|                             0|                        0|      0|             0|       0|        1|          0|   0|               0|       0|       0|    1|             0|            0|\n",
            "|  4|coronary  arterio...|              0|            0|            0|            0|                 0|                   0|                 0|                           0|                          0|       0|                0|               0|        0|   0|             0|               0|        0|              0|                    0|                            0|            0|               1|              0|       0|      0|      0|        0|         0|      0|        0|       0|           0|     0|     0|   0|              0|            0|        0|                   0|                                        0|       0|     0|                 0|                     0|          0|           0|                0|                       0|                      0|                   0|                  0|    0|                 0|                0|       0|           0|                      0|                   0|        0|              0|           0|               1|               0|              0|    0|    0|            0|          0|           0|     0|         0|              0|                  0|           0|                    0|    0|                0|                 0|       0|            0|           0|             0|                      0|                    0|                      0|                     0|       0|         0|                       0|             0|                 0|                0|                    0|                   0|               0|        0|           0|    0|         0|       0|         0|                 0|          0|          0|      0|                   1|                  0|      0|         0|       0|      0|                   0|                0|               0|       0|       0|           0|                0|         0|                  0|                 0|              0|             0|   0|           0|      0|              0|        0|              0|                0|                0|               0|              0|               0|                 0|    0|    0|         0|     0|       0|             0|                0|               0|          0|    0|       0|            0|  0|                 0|                  0|                 0|                   0|         0|        0|         0|            0|           0|     0|              0|     0|            0|          0|          0|                       0|                     0|                      0|                    0|                   0|       0|        0|            0|         0|           0|                   0|        0|            0|                     0|         0|                     0|           0|                 0|        0|                     0|    0|         0|           0|                 0|        0|     0|                0|          0|          0|          0|                     0|           0|          0|              0|            0|               0|          0|              0|                  0|          0|          1|             0|           0|              0|          0|                   0|        0|        0|       0|                 0|                   0|         0|               0|                            0|           0|              0|             0|                         0|                        0|                0|       0|                    0|                      0|     0|       0|              0|           0|                 0|            0|          0|             0|     0|      0|             0|                     0|                0|                     0|                    0|                0|    0|   0|         0|          0|              0|             0|    0|                 0|                0|               0|            0|      0|        0|        0|                      0|            0|     0|                  0|             0|        0|          0|           0|          0|        0|                      0|               0|                0|                    0|                   0|        0|       0|                0|               0|       0|        1|          0|             0|            0|         0|   0|          1|             0|        0|         0|        0|                 0|        0|                 0|     0|          0|    0|                 0|     0|     0|       0|          0|      0|          0|            0|                     0|                       0|          0|          0|        0|               0|              0|             0|           0|         0|          0|       0|             0|           0|                   0|        0|                 0|              1|             0|                     0|           0|       0|                0|               0|                  0|              0|         0|          0|       0|           0|               0|      0|                    0|             0|   0|              0|                      0|           0|      0|                            0|                     0|        0|    0|           0|           0|       0|                                         0|              0|            0|            0|          0|       0|              0|            0|        0|      0|                 0|            0|                   1|                  0|        0|           0|            0|     0|                        0|     0|      0|    0|      0|                   0|            0|    0|              0|             0|           0|                               0|              0|                    0|                   0|        0|                 0|                 0|      0|          0|     0|       0|              0|    1|                  1|                 0|       0|                           0|                          0|      0|                       0|              0|              0|        0|       0|      0|      0|          0|                          0|       0|    0|         0|             0|             0|            0|          0|     0|             0|                  0|                     0|                    0|                 0|                0|             0|          0|      0|               0|             0|            0|     0|                 0|                0|                     0|                 0|      0|                              0|                             0|                        0|      0|             0|       0|        0|          0|   0|               0|       0|       0|    0|             0|            0|\n",
            "|  5|coronary heart di...|              0|            0|            0|            0|                 0|                   0|                 0|                           0|                          0|       0|                0|               0|        0|   0|             0|               0|        0|              0|                    0|                            0|            0|               1|              0|       0|      0|      0|        0|         0|      0|        0|       0|           0|     0|     0|   0|              0|            0|        0|                   0|                                        0|       0|     0|                 0|                     0|          0|           0|                0|                       0|                      0|                   0|                  0|    0|                 0|                0|       0|           0|                      0|                   0|        0|              0|           0|               1|               0|              0|    0|    0|            0|          0|           0|     0|         0|              0|                  0|           0|                    0|    0|                0|                 0|       0|            0|           0|             0|                      0|                    0|                      0|                     0|       0|         0|                       0|             0|                 0|                0|                    0|                   0|               0|        0|           0|    0|         0|       0|         0|                 0|          0|          0|      0|                   1|                  0|      0|         0|       0|      0|                   0|                0|               0|       0|       0|           0|                0|         0|                  0|                 0|              0|             0|   0|           0|      0|              0|        0|              0|                0|                0|               0|              0|               0|                 0|    0|    0|         0|     0|       0|             0|                0|               0|          0|    0|       0|            0|  0|                 0|                  0|                 0|                   0|         0|        0|         0|            0|           0|     0|              0|     0|            0|          0|          0|                       0|                     0|                      0|                    0|                   0|       0|        0|            0|         0|           0|                   0|        0|            0|                     0|         0|                     0|           0|                 0|        0|                     0|    0|         0|           0|                 0|        0|     0|                0|          0|          0|          0|                     0|           0|          0|              0|            0|               0|          0|              0|                  0|          0|          1|             0|           0|              0|          0|                   0|        0|        0|       0|                 0|                   0|         0|               0|                            0|           0|              0|             0|                         0|                        0|                0|       0|                    0|                      0|     0|       0|              0|           0|                 0|            0|          0|             0|     0|      0|             0|                     0|                0|                     0|                    0|                0|    0|   0|         0|          0|              0|             0|    0|                 0|                0|               0|            0|      0|        0|        0|                      0|            0|     0|                  0|             0|        0|          0|           0|          0|        0|                      0|               0|                0|                    0|                   0|        0|       0|                0|               0|       0|        1|          0|             0|            0|         0|   0|          1|             0|        0|         0|        0|                 0|        0|                 0|     0|          0|    0|                 0|     0|     0|       0|          0|      0|          0|            0|                     0|                       0|          0|          0|        0|               0|              0|             0|           0|         0|          0|       0|             0|           0|                   0|        0|                 0|              1|             0|                     0|           0|       0|                0|               0|                  0|              0|         0|          0|       0|           0|               0|      0|                    0|             0|   0|              0|                      0|           0|      0|                            0|                     0|        0|    0|           0|           0|       0|                                         0|              0|            0|            0|          0|       0|              0|            0|        0|      0|                 0|            0|                   1|                  0|        0|           0|            0|     0|                        0|     0|      0|    0|      0|                   0|            0|    0|              0|             0|           0|                               0|              0|                    0|                   0|        0|                 0|                 0|      0|          0|     0|       0|              0|    1|                  1|                 0|       0|                           0|                          0|      0|                       0|              0|              0|        0|       0|      0|      0|          0|                          0|       0|    0|         0|             0|             0|            0|          0|     0|             0|                  0|                     0|                    0|                 0|                0|             0|          0|      0|               0|             0|            0|     0|                 0|                0|                     0|                 0|      0|                              0|                             0|                        0|      0|             0|       0|        0|          0|   0|               0|       0|       0|    0|             0|            0|\n",
            "|  6|           pneumonia|              0|            0|            0|            0|                 0|                   0|                 0|                           0|                          0|       0|                0|               0|        0|   0|             0|               0|        0|              0|                    0|                            0|            0|               0|              0|       0|      0|      0|        0|         0|      0|        0|       0|           0|     0|     0|   0|              0|            0|        0|                   0|                                        0|       0|     0|                 0|                     0|          0|           0|                0|                       1|                      0|                   0|                  0|    0|                 0|                0|       0|           0|                      0|                   0|        0|              0|           0|               0|               0|              0|    1|    0|            0|          0|           0|     0|         0|              0|                  0|           0|                    0|    1|                0|                 0|       0|            0|           0|             0|                      1|                    0|                      0|                     0|       0|         0|                       0|             0|                 0|                0|                    1|                   0|               0|        0|           0|    0|         0|       0|         0|                 0|          0|          0|      0|                   0|                  0|      0|         0|       0|      0|                   0|                0|               0|       0|       0|           0|                0|         0|                  0|                 0|              0|             0|   0|           0|      0|              0|        0|              0|                0|                0|               0|              0|               0|                 0|    1|    0|         0|     0|       0|             0|                0|               0|          0|    0|       0|            0|  0|                 0|                  0|                 0|                   0|         0|        0|         0|            1|           0|     0|              0|     0|            0|          1|          0|                       0|                     0|                      0|                    0|                   0|       0|        0|            0|         0|           0|                   0|        0|            0|                     0|         0|                     0|           0|                 0|        0|                     0|    0|         0|           0|                 0|        0|     0|                0|          0|          0|          0|                     0|           0|          0|              0|            0|               0|          0|              0|                  0|          0|          0|             0|           0|              0|          0|                   0|        0|        0|       0|                 0|                   0|         0|               0|                            0|           0|              0|             0|                         0|                        0|                0|       0|                    0|                      0|     0|       0|              0|           0|                 0|            0|          0|             0|     0|      1|             0|                     0|                0|                     0|                    0|                0|    0|   0|         0|          0|              0|             0|    0|                 0|                0|               0|            0|      0|        0|        0|                      0|            0|     0|                  0|             0|        0|          0|           1|          0|        0|                      0|               0|                0|                    1|                   0|        0|       0|                0|               0|       0|        0|          0|             0|            0|         0|   0|          0|             0|        0|         0|        0|                 0|        0|                 0|     0|          0|    0|                 0|     0|     0|       0|          0|      0|          0|            0|                     0|                       0|          0|          0|        0|               0|              1|             0|           0|         0|          0|       0|             0|           0|                   0|        0|                 0|              0|             0|                     0|           0|       0|                1|               0|                  0|              0|         0|          0|       0|           0|               0|      0|                    0|             0|   1|              0|                      0|           0|      0|                            0|                     0|        0|    0|           0|           0|       1|                                         0|              0|            0|            0|          0|       0|              0|            0|        0|      0|                 0|            0|                   1|                  0|        0|           0|            0|     0|                        0|     0|      0|    0|      0|                   0|            0|    0|              0|             0|           0|                               0|              0|                    0|                   0|        0|                 0|                 0|      0|          0|     0|       0|              0|    0|                  0|                 0|       0|                           0|                          0|      0|                       0|              0|              0|        1|       0|      0|      0|          0|                          0|       0|    0|         0|             0|             0|            0|          0|     0|             0|                  0|                     0|                    0|                 0|                0|             0|          0|      0|               0|             0|            0|     0|                 0|                0|                     0|                 0|      0|                              0|                             0|                        0|      0|             0|       0|        0|          0|   0|               0|       1|       0|    0|             1|            0|\n",
            "|  7|failure  heart co...|              0|            0|            0|            0|                 0|                   0|                 0|                           0|                          0|       0|                0|               0|        0|   0|             0|               0|        0|              0|                    0|                            0|            0|               0|              0|       0|      0|      0|        0|         0|      0|        0|       0|           0|     0|     0|   0|              0|            0|        0|                   0|                                        0|       0|     0|                 0|                     0|          0|           0|                0|                       0|                      0|                   0|                  0|    0|                 0|                0|       0|           0|                      0|                   0|        0|              0|           0|               0|               0|              0|    0|    0|            0|          0|           0|     0|         0|              0|                  0|           0|                    0|    1|                0|                 0|       0|            0|           0|             0|                      0|                    0|                      0|                     0|       0|         0|                       0|             0|                 0|                0|                    0|                   0|               0|        0|           0|    0|         0|       0|         0|                 0|          0|          0|      1|                   0|                  0|      0|         0|       0|      0|                   0|                0|               0|       0|       0|           0|                0|         0|                  0|                 0|              0|             0|   0|           0|      0|              0|        0|              0|                0|                0|               0|              0|               0|                 0|    0|    0|         0|     0|       0|             0|                0|               0|          0|    0|       0|            0|  0|                 0|                  0|                 0|                   0|         0|        0|         0|            0|           0|     0|              0|     0|            0|          0|          0|                       0|                     0|                      0|                    0|                   0|       0|        0|            0|         0|           0|                   0|        0|            0|                     0|         0|                     0|           0|                 0|        0|                     0|    0|         0|           0|                 0|        0|     0|                0|          0|          0|          0|                     0|           0|          0|              0|            0|               0|          0|              0|                  0|          0|          0|             0|           0|              0|          0|                   0|        0|        0|       0|                 0|                   0|         0|               0|                            0|           0|              0|             0|                         1|                        0|                0|       0|                    0|                      0|     0|       0|              0|           0|                 0|            0|          0|             0|     0|      0|             0|                     0|                0|                     0|                    0|                0|    0|   0|         0|          0|              0|             0|    0|                 0|                0|               0|            0|      0|        0|        0|                      0|            0|     0|                  0|             0|        0|          0|           0|          0|        0|                      0|               0|                0|                    0|                   0|        0|       0|                0|               0|       0|        1|          0|             0|            0|         0|   0|          0|             0|        0|         0|        0|                 0|        0|                 0|     0|          0|    0|                 0|     0|     0|       0|          0|      0|          0|            0|                     0|                       0|          0|          0|        0|               0|              0|             0|           0|         0|          0|       0|             0|           0|                   0|        0|                 0|              0|             0|                     0|           0|       0|                0|               0|                  0|              0|         0|          0|       0|           0|               0|      0|                    0|             0|   1|              0|                      0|           0|      0|                            0|                     0|        0|    0|           0|           0|       0|                                         0|              0|            0|            0|          0|       0|              0|            0|        0|      0|                 0|            0|                   1|                  0|        0|           0|            0|     0|                        0|     0|      0|    0|      0|                   0|            0|    0|              0|             0|           0|                               0|              0|                    0|                   0|        0|                 0|                 0|      0|          0|     0|       0|              0|    0|                  0|                 0|       0|                           0|                          0|      0|                       0|              0|              0|        0|       0|      0|      0|          0|                          0|       0|    0|         0|             0|             0|            0|          0|     0|             0|                  0|                     0|                    0|                 0|                0|             0|          0|      0|               0|             0|            0|     0|                 0|                0|                     0|                 0|      0|                              0|                             0|                        0|      0|             0|       0|        0|          0|   0|               0|       1|       0|    0|             0|            0|\n",
            "|  8|accident  cerebro...|              0|            0|            0|            0|                 0|                   0|                 0|                           0|                          0|       0|                0|               0|        0|   0|             0|               0|        0|              0|                    0|                            0|            0|               0|              0|       0|      0|      0|        0|         0|      0|        0|       1|           0|     0|     0|   0|              0|            0|        0|                   0|                                        0|       0|     0|                 0|                     0|          0|           0|                0|                       0|                      0|                   0|                  0|    0|                 0|                0|       0|           0|                      0|                   0|        0|              0|           0|               0|               0|              0|    0|    0|            0|          0|           0|     0|         0|              0|                  0|           0|                    0|    0|                0|                 0|       0|            0|           0|             0|                      0|                    0|                      0|                     0|       0|         0|                       0|             0|                 0|                0|                    0|                   0|               0|        0|           0|    0|         0|       0|         1|                 0|          0|          0|      0|                   0|                  0|      0|         0|       0|      0|                   0|                0|               0|       0|       0|           0|                0|         0|                  0|                 0|              1|             0|   0|           0|      0|              0|        0|              0|                0|                0|               0|              0|               0|                 0|    0|    0|         0|     0|       0|             0|                0|               0|          0|    0|       0|            0|  0|                 0|                  0|                 0|                   0|         0|        0|         0|            0|           0|     0|              0|     0|            0|          0|          0|                       0|                     0|                      0|                    0|                   0|       0|        0|            0|         0|           0|                   0|        0|            0|                     0|         1|                     0|           0|                 0|        0|                     0|    0|         0|           0|                 0|        0|     0|                0|          0|          0|          0|                     0|           0|          0|              0|            0|               0|          0|              0|                  0|          0|          0|             0|           0|              0|          0|                   0|        0|        0|       0|                 0|                   0|         0|               0|                            0|           0|              0|             0|                         0|                        0|                0|       0|                    0|                      0|     0|       0|              0|           0|                 0|            0|          0|             0|     0|      0|             0|                     0|                0|                     0|                    0|                0|    0|   0|         0|          0|              0|             0|    0|                 0|                0|               0|            0|      0|        0|        0|                      0|            0|     0|                  0|             0|        0|          0|           0|          0|        0|                      0|               0|                0|                    0|                   0|        0|       1|                0|               0|       0|        0|          0|             0|            0|         0|   0|          0|             0|        0|         0|        0|                 0|        0|                 0|     0|          0|    0|                 0|     0|     0|       0|          0|      0|          0|            0|                     0|                       0|          0|          0|        0|               0|              0|             0|           0|         0|          0|       0|             0|           0|                   0|        0|                 0|              0|             0|                     0|           0|       0|                0|               0|                  0|              0|         0|          0|       0|           0|               0|      0|                    0|             0|   0|              0|                      0|           0|      0|                            0|                     0|        0|    0|           0|           0|       0|                                         0|              0|            0|            0|          0|       0|              0|            0|        0|      1|                 0|            0|                   0|                  0|        0|           0|            0|     0|                        0|     0|      0|    0|      0|                   0|            0|    0|              1|             0|           0|                               0|              0|                    0|                   0|        0|                 0|                 0|      0|          0|     0|       0|              0|    0|                  0|                 0|       0|                           0|                          0|      0|                       0|              0|              0|        0|       0|      0|      0|          0|                          0|       0|    0|         0|             0|             0|            0|          0|     0|             0|                  0|                     0|                    0|                 0|                0|             0|          0|      0|               1|             0|            0|     0|                 0|                0|                     0|                 0|      0|                              0|                             0|                        0|      0|             0|       0|        0|          0|   0|               0|       0|       0|    0|             0|            0|\n",
            "|  9|              asthma|              0|            0|            0|            0|                 0|                   0|                 0|                           0|                          0|       0|                0|               0|        0|   0|             0|               0|        0|              0|                    0|                            0|            0|               0|              0|       0|      0|      0|        0|         0|      0|        0|       0|           0|     0|     0|   0|              0|            0|        0|                   0|                                        0|       0|     0|                 0|                     0|          0|           0|                0|                       0|                      0|                   0|                  0|    0|                 0|                0|       0|           0|                      0|                   0|        0|              0|           0|               1|               0|              0|    0|    0|            0|          0|           0|     0|         0|              0|                  0|           0|                    0|    1|                0|                 0|       0|            0|           0|             0|                      0|                    0|                      0|                     0|       0|         0|                       0|             0|                 0|                0|                    1|                   0|               0|        0|           0|    0|         0|       0|         0|                 0|          0|          0|      0|                   0|                  0|      0|         0|       0|      0|                   0|                0|               0|       0|       0|           0|                0|         0|                  0|                 0|              0|             0|   0|           0|      0|              0|        0|              0|                0|                0|               0|              0|               0|                 0|    0|    0|         0|     0|       0|             0|                0|               0|          0|    0|       0|            0|  0|                 0|                  0|                 0|                   0|         0|        0|         0|            0|           0|     0|              0|     0|            0|          0|          0|                       0|                     0|                      0|                    0|                   0|       0|        0|            0|         0|           0|                   0|        0|            0|                     0|         0|                     0|           0|                 0|        0|                     0|    0|         0|           0|                 0|        0|     0|                0|          0|          0|          0|                     0|           0|          0|              0|            0|               0|          0|              0|                  0|          0|          0|             0|           0|              0|          0|                   0|        0|        0|       0|                 0|                   0|         0|               0|                            0|           0|              0|             0|                         0|                        0|                0|       0|                    0|                      0|     0|       0|              0|           0|                 0|            0|          0|             0|     0|      0|             0|                     0|                0|                     0|                    0|                0|    0|   0|         0|          0|              0|             0|    0|                 0|                0|               0|            0|      0|        0|        0|                      0|            0|     0|                  0|             0|        0|          0|           0|          0|        0|                      0|               0|                0|                    1|                   0|        0|       0|                0|               0|       0|        0|          0|             0|            0|         0|   0|          0|             0|        0|         0|        0|                 0|        0|                 0|     0|          0|    0|                 0|     0|     0|       0|          0|      0|          0|            0|                     0|                       0|          0|          0|        0|               0|              1|             0|           0|         0|          0|       0|             0|           0|                   0|        0|                 0|              0|             0|                     0|           0|       0|                1|               0|                  0|              0|         0|          0|       0|           0|               0|      0|                    0|             0|   0|              0|                      0|           0|      0|                            0|                     0|        0|    0|           0|           0|       0|                                         0|              0|            0|            0|          0|       0|              0|            0|        0|      0|                 0|            0|                   1|                  0|        0|           0|            0|     0|                        0|     0|      0|    0|      0|                   0|            0|    0|              0|             0|           0|                               0|              0|                    0|                   0|        0|                 0|                 0|      0|          0|     0|       0|              0|    0|                  0|                 0|       0|                           1|                          0|      0|                       0|              0|              0|        0|       0|      0|      0|          0|                          0|       0|    0|         0|             0|             0|            0|          0|     0|             0|                  0|                     0|                    0|                 0|                0|             0|          0|      0|               0|             0|            0|     0|                 0|                0|                     0|                 0|      0|                              0|                             0|                        0|      0|             0|       0|        0|          0|   0|               0|       1|       0|    0|             0|            0|\n",
            "| 10|myocardial  infar...|              0|            0|            0|            0|                 0|                   0|                 0|                           0|                          0|       0|                0|               0|        0|   0|             0|               0|        0|              0|                    0|                            0|            0|               0|              1|       0|      0|      0|        0|         0|      0|        0|       0|           0|     0|     0|   0|              0|            0|        0|                   0|                                        0|       0|     0|                 0|                     0|          1|           0|                0|                       0|                      0|                   0|                  0|    0|                 0|                0|       0|           0|                      0|                   0|        0|              0|           0|               0|               1|              1|    0|    0|            0|          0|           0|     0|         0|              0|                  0|           0|                    0|    0|                0|                 0|       0|            0|           0|             0|                      0|                    0|                      0|                     0|       0|         0|                       0|             0|                 0|                0|                    0|                   0|               0|        0|           0|    0|         0|       0|         0|                 0|          0|          0|      1|                   0|                  0|      0|         0|       0|      0|                   0|                0|               0|       0|       0|           0|                0|         0|                  0|                 0|              0|             0|   0|           0|      0|              0|        0|              0|                0|                0|               0|              0|               0|                 0|    0|    0|         0|     0|       0|             0|                0|               0|          0|    0|       0|            0|  0|                 0|                  0|                 0|                   0|         0|        0|         0|            0|           0|     0|              0|     0|            0|          0|          0|                       0|                     0|                      0|                    0|                   0|       0|        0|            0|         0|           0|                   0|        0|            0|                     0|         0|                     0|           0|                 0|        0|                     0|    0|         0|           0|                 0|        0|     0|                0|          0|          0|          0|                     0|           0|          0|              0|            0|               0|          0|              0|                  0|          0|          1|             0|           0|              0|          0|                   0|        0|        0|       0|                 0|                   0|         0|               0|                            0|           0|              0|             0|                         0|                        0|                0|       0|                    0|                      0|     0|       0|              0|           0|                 0|            0|          0|             0|     0|      0|             0|                     0|                0|                     0|                    0|                0|    0|   0|         0|          0|              0|             0|    0|                 0|                0|               0|            0|      0|        0|        0|                      0|            0|     0|                  0|             0|        0|          0|           0|          0|        0|                      0|               0|                0|                    0|                   0|        0|       0|                0|               0|       0|        1|          0|             0|            0|         0|   0|          0|             0|        0|         1|        0|                 0|        0|                 0|     0|          1|    0|                 0|     0|     0|       0|          0|      0|          0|            0|                     0|                       0|          0|          0|        0|               0|              0|             0|           0|         0|          0|       0|             0|           0|                   0|        0|                 1|              0|             1|                     0|           0|       0|                0|               0|                  0|              0|         0|          0|       0|           0|               0|      0|                    0|             0|   1|              0|                      0|           0|      0|                            0|                     0|        0|    0|           0|           0|       0|                                         0|              0|            0|            0|          0|       0|              0|            0|        0|      0|                 0|            0|                   0|                  1|        0|           0|            0|     0|                        0|     0|      0|    0|      0|                   0|            0|    0|              0|             0|           0|                               0|              0|                    1|                   1|        0|                 0|                 0|      0|          0|     0|       0|              0|    1|                  0|                 1|       0|                           0|                          0|      1|                       0|              0|              1|        0|       0|      0|      0|          0|                          0|       0|    0|         0|             0|             0|            0|          0|     0|             0|                  0|                     0|                    0|                 0|                0|             0|          0|      0|               0|             0|            0|     0|                 0|                0|                     0|                 0|      0|                              0|                             0|                        0|      0|             0|       0|        0|          0|   0|               0|       0|       0|    0|             0|            0|\n",
            "| 11|hypercholesterolemia|              0|            0|            0|            0|                 0|                   0|                 0|                           0|                          0|       0|                0|               0|        0|   0|             0|               0|        0|              0|                    0|                            0|            0|               0|              0|       0|      0|      0|        0|         0|      0|        0|       0|           0|     0|     0|   0|              0|            0|        0|                   0|                                        0|       0|     0|                 0|                     0|          1|           0|                0|                       0|                      0|                   0|                  0|    0|                 0|                0|       0|           0|                      0|                   0|        0|              0|           0|               0|               1|              0|    0|    0|            0|          0|           0|     0|         0|              0|                  0|           0|                    0|    0|                0|                 0|       0|            0|           0|             0|                      0|                    0|                      0|                     0|       0|         0|                       0|             0|                 0|                0|                    0|                   0|               0|        0|           0|    0|         0|       0|         0|                 0|          0|          0|      1|                   0|                  0|      0|         0|       0|      0|                   0|                0|               0|       0|       0|           0|                0|         0|                  0|                 0|              0|             0|   0|           0|      0|              0|        0|              0|                0|                0|               0|              0|               0|                 0|    0|    0|         0|     0|       0|             0|                0|               0|          0|    0|       0|            0|  0|                 0|                  0|                 0|                   0|         0|        0|         0|            0|           0|     0|              0|     0|            0|          0|          0|                       0|                     0|                      0|                    0|                   0|       0|        0|            0|         0|           0|                   0|        0|            0|                     0|         0|                     0|           0|                 0|        0|                     0|    0|         0|           0|                 0|        0|     0|                0|          0|          0|          0|                     0|           0|          0|              0|            0|               0|          0|              0|                  0|          0|          0|             0|           0|              0|          0|                   0|        0|        0|       0|                 0|                   0|         0|               0|                            0|           0|              0|             0|                         0|                        0|                0|       0|                    0|                      0|     0|       0|              0|           0|                 0|            0|          0|             0|     0|      0|             0|                     0|                0|                     0|                    0|                0|    0|   0|         0|          0|              0|             0|    0|                 0|                0|               0|            0|      0|        0|        0|                      0|            0|     0|                  0|             0|        0|          0|           0|          0|        0|                      0|               0|                0|                    0|                   0|        1|       1|                0|               0|       0|        0|          0|             0|            0|         0|   1|          0|             0|        0|         1|        0|                 0|        0|                 0|     0|          0|    0|                 0|     0|     0|       0|          0|      0|          0|            0|                     0|                       0|          0|          0|        0|               0|              0|             0|           0|         0|          0|       0|             0|           0|                   0|        0|                 0|              0|             1|                     0|           0|       0|                0|               0|                  0|              0|         0|          0|       0|           0|               0|      0|                    0|             0|   0|              0|                      0|           0|      0|                            0|                     0|        0|    0|           0|           0|       0|                                         0|              0|            0|            0|          0|       0|              0|            0|        0|      0|                 0|            0|                   0|                  1|        0|           0|            0|     0|                        0|     0|      0|    0|      0|                   0|            0|    0|              0|             0|           0|                               0|              0|                    1|                   0|        0|                 0|                 0|      0|          0|     0|       0|              0|    1|                  0|                 1|       0|                           0|                          0|      1|                       0|              0|              1|        0|       0|      0|      0|          0|                          0|       0|    0|         0|             0|             0|            0|          0|     0|             0|                  0|                     0|                    0|                 0|                0|             0|          0|      0|               0|             0|            0|     0|                 0|                0|                     0|                 0|      0|                              0|                             0|                        0|      0|             0|       0|        0|          0|   0|               0|       0|       0|    1|             0|            0|\n",
            "| 12|           infection|              0|            0|            0|            0|                 0|                   0|                 0|                           0|                          0|       0|                1|               0|        0|   0|             0|               0|        0|              0|                    0|                            0|            0|               0|              0|       0|      0|      0|        1|         0|      0|        0|       0|           0|     0|     0|   0|              0|            0|        0|                   0|                                        0|       0|     0|                 0|                     0|          0|           0|                0|                       0|                      0|                   0|                  0|    0|                 0|                0|       0|           0|                      0|                   0|        0|              0|           0|               0|               0|              0|    1|    0|            0|          0|           0|     0|         0|              0|                  0|           0|                    0|    1|                0|                 0|       0|            0|           0|             0|                      0|                    0|                      0|                     1|       1|         0|                       0|             0|                 0|                0|                    0|                   0|               0|        0|           0|    0|         0|       0|         0|                 0|          0|          0|      0|                   0|                  0|      0|         0|       0|      0|                   0|                0|               0|       0|       1|           0|                0|         0|                  0|                 0|              0|             0|   0|           0|      0|              0|        0|              0|                0|                0|               0|              0|               0|                 0|    1|    0|         0|     0|       0|             0|                0|               0|          0|    0|       0|            0|  0|                 0|                  0|                 0|                   0|         0|        0|         0|            0|           0|     0|              0|     0|            0|          0|          0|                       0|                     0|                      0|                    0|                   0|       0|        0|            0|         0|           0|                   0|        0|            0|                     0|         0|                     0|           0|                 1|        0|                     0|    0|         0|           0|                 0|        0|     0|                0|          0|          0|          0|                     0|           0|          0|              0|            0|               0|          0|              0|                  0|          0|          0|             0|           0|              0|          0|                   0|        0|        0|       0|                 0|                   0|         0|               0|                            0|           0|              0|             0|                         0|                        0|                0|       0|                    0|                      0|     0|       0|              0|           0|                 0|            0|          0|             0|     0|      0|             0|                     0|                0|                     0|                    0|                0|    0|   0|         0|          0|              0|             0|    0|                 0|                0|               0|            0|      0|        0|        0|                      0|            0|     0|                  0|             0|        0|          0|           0|          0|        0|                      0|               0|                0|                    0|                   0|        0|       0|                0|               0|       0|        0|          0|             0|            0|         0|   1|          0|             0|        0|         0|        0|                 0|        0|                 0|     0|          0|    0|                 0|     0|     0|       0|          0|      0|          0|            0|                     0|                       0|          0|          0|        0|               0|              0|             0|           0|         0|          0|       0|             0|           0|                   0|        0|                 0|              0|             0|                     0|           0|       0|                0|               0|                  0|              0|         0|          0|       1|           0|               0|      0|                    0|             0|   0|              0|                      0|           0|      0|                            0|                     0|        0|    0|           0|           0|       0|                                         0|              0|            0|            0|          0|       0|              0|            0|        0|      0|                 0|            0|                   0|                  0|        0|           0|            0|     0|                        0|     0|      0|    0|      0|                   0|            0|    0|              0|             0|           0|                               0|              0|                    0|                   0|        0|                 0|                 0|      0|          0|     0|       0|              0|    0|                  0|                 0|       1|                           0|                          0|      0|                       0|              0|              0|        0|       0|      0|      0|          0|                          0|       0|    0|         0|             0|             0|            0|          0|     0|             0|                  0|                     0|                    0|                 0|                0|             0|          0|      0|               0|             0|            0|     0|                 0|                0|                     0|                 0|      0|                              0|                             0|                        0|      0|             0|       0|        0|          0|   0|               0|       0|       0|    0|             0|            0|\n",
            "| 13|infection  urinar...|              0|            0|            0|            0|                 0|                   0|                 0|                           0|                          0|       0|                0|               0|        0|   0|             0|               0|        0|              0|                    0|                            0|            0|               0|              0|       0|      0|      0|        0|         0|      0|        0|       1|           0|     0|     0|   0|              0|            0|        0|                   0|                                        0|       0|     0|                 0|                     0|          0|           0|                0|                       0|                      0|                   0|                  0|    0|                 0|                0|       0|           0|                      0|                   0|        0|              0|           0|               0|               0|              0|    0|    0|            0|          0|           0|     0|         0|              0|                  1|           0|                    0|    0|                0|                 0|       0|            0|           0|             0|                      0|                    0|                      0|                     0|       0|         0|                       1|             0|                 0|                0|                    0|                   1|               0|        0|           0|    0|         0|       0|         0|                 0|          0|          0|      0|                   0|                  0|      1|         0|       0|      0|                   0|                0|               0|       0|       0|           0|                0|         0|                  0|                 0|              0|             0|   0|           0|      0|              0|        0|              0|                0|                0|               0|              0|               0|                 0|    1|    0|         0|     0|       0|             0|                0|               0|          0|    0|       0|            0|  0|                 0|                  0|                 0|                   0|         0|        0|         0|            0|           0|     0|              0|     0|            0|          0|          0|                       0|                     0|                      0|                    0|                   0|       0|        0|            0|         0|           0|                   0|        1|            0|                     0|         0|                     1|           0|                 0|        0|                     0|    0|         0|           0|                 0|        0|     0|                0|          0|          0|          0|                     0|           0|          0|              0|            0|               0|          0|              0|                  0|          0|          0|             0|           1|              0|          0|                   0|        0|        0|       0|                 0|                   0|         0|               0|                            0|           0|              0|             0|                         0|                        0|                0|       0|                    0|                      0|     0|       1|              0|           0|                 0|            0|          0|             0|     0|      0|             0|                     0|                0|                     0|                    1|                0|    0|   0|         0|          0|              0|             0|    0|                 0|                0|               0|            0|      0|        0|        0|                      0|            0|     0|                  0|             0|        0|          0|           0|          0|        0|                      0|               0|                0|                    0|                   0|        0|       0|                0|               0|       0|        0|          0|             0|            0|         0|   0|          0|             0|        0|         0|        0|                 0|        0|                 0|     0|          0|    0|                 0|     0|     0|       0|          0|      0|          0|            0|                     0|                       0|          0|          0|        0|               0|              0|             0|           0|         0|          0|       0|             0|           0|                   0|        0|                 0|              0|             0|                     0|           0|       0|                0|               0|                  0|              0|         0|          0|       0|           0|               0|      0|                    0|             0|   0|              0|                      0|           0|      0|                            0|                     1|        0|    0|           0|           0|       0|                                         0|              0|            0|            0|          0|       0|              0|            0|        0|      0|                 0|            0|                   0|                  0|        0|           0|            0|     0|                        0|     0|      0|    0|      0|                   0|            0|    0|              0|             0|           0|                               0|              0|                    0|                   0|        0|                 0|                 0|      0|          0|     0|       0|              0|    0|                  0|                 0|       0|                           0|                          0|      0|                       0|              0|              0|        0|       0|      0|      0|          0|                          0|       0|    0|         0|             0|             0|            0|          0|     0|             0|                  0|                     0|                    0|                 0|                0|             0|          0|      0|               0|             0|            0|     0|                 0|                0|                     0|                 0|      0|                              0|                             0|                        0|      0|             0|       0|        0|          0|   0|               0|       0|       0|    0|             0|            0|\n",
            "| 14|              anemia|              0|            0|            0|            0|                 0|                   0|                 0|                           0|                          0|       0|                0|               0|        0|   0|             0|               0|        0|              0|                    0|                            0|            0|               0|              0|       0|      0|      0|        0|         1|      0|        0|       1|           0|     0|     0|   0|              0|            0|        0|                   0|                                        0|       0|     0|                 0|                     0|          0|           0|                0|                       0|                      0|                   0|                  0|    0|                 0|                0|       0|           0|                      0|                   0|        0|              0|           0|               0|               0|              0|    1|    0|            0|          0|           0|     0|         0|              0|                  0|           0|                    0|    0|                0|                 0|       0|            0|           0|             0|                      0|                    0|                      0|                     0|       0|         0|                       0|             0|                 0|                0|                    0|                   0|               0|        1|           0|    0|         0|       0|         0|                 0|          0|          0|      0|                   0|                  0|      0|         1|       0|      0|                   0|                0|               0|       0|       0|           0|                0|         0|                  0|                 0|              0|             0|   0|           0|      1|              0|        0|              0|                0|                0|               0|              0|               0|                 0|    0|    0|         0|     0|       0|             0|                0|               0|          0|    0|       0|            0|  0|                 0|                  0|                 0|                   0|         0|        0|         0|            0|           0|     0|              1|     0|            0|          0|          1|                       0|                     0|                      0|                    0|                   0|       0|        0|            0|         0|           0|                   0|        0|            1|                     0|         0|                     0|           0|                 0|        0|                     0|    0|         0|           0|                 0|        0|     0|                0|          0|          0|          0|                     0|           0|          0|              0|            0|               0|          0|              0|                  0|          0|          0|             0|           1|              0|          0|                   0|        0|        0|       0|                 0|                   0|         0|               0|                            0|           0|              0|             0|                         0|                        0|                0|       0|                    0|                      0|     0|       0|              0|           0|                 0|            0|          0|             0|     0|      0|             0|                     0|                0|                     0|                    0|                0|    0|   0|         1|          0|              0|             0|    0|                 0|                0|               0|            0|      0|        0|        0|                      0|            0|     0|                  0|             0|        0|          0|           0|          0|        0|                      0|               0|                0|                    0|                   0|        0|       0|                0|               0|       0|        0|          1|             0|            0|         0|   1|          0|             0|        1|         0|        0|                 0|        0|                 0|     1|          0|    0|                 0|     0|     0|       0|          0|      0|          0|            0|                     0|                       0|          0|          0|        0|               0|              0|             0|           0|         0|          0|       0|             0|           0|                   0|        0|                 0|              0|             0|                     0|           0|       0|                0|               0|                  0|              0|         0|          0|       0|           0|               0|      0|                    0|             0|   0|              0|                      0|           0|      0|                            0|                     0|        0|    0|           0|           0|       1|                                         0|              0|            0|            0|          0|       0|              0|            0|        0|      0|                 0|            0|                   0|                  1|        0|           0|            0|     0|                        0|     0|      0|    0|      0|                   0|            0|    0|              0|             0|           0|                               0|              0|                    0|                   0|        0|                 0|                 0|      0|          0|     0|       0|              0|    0|                  0|                 0|       1|                           0|                          0|      0|                       0|              0|              0|        0|       0|      0|      0|          0|                          0|       0|    0|         0|             0|             0|            1|          0|     0|             0|                  1|                     0|                    0|                 0|                0|             0|          0|      0|               0|             0|            0|     0|                 0|                0|                     0|                 0|      0|                              0|                             0|                        0|      0|             0|       0|        0|          0|   0|               0|       0|       0|    0|             0|            0|\n",
            "| 15|chronic  obstruct...|              0|            0|            0|            0|                 0|                   0|                 0|                           0|                          0|       0|                0|               0|        0|   0|             0|               0|        0|              0|                    0|                            0|            0|               0|              0|       0|      0|      0|        0|         0|      0|        0|       0|           0|     0|     0|   0|              0|            0|        0|                   0|                                        0|       0|     0|                 0|                     0|          0|           0|                0|                       0|                      0|                   0|                  0|    0|                 0|                0|       0|           0|                      0|                   0|        0|              0|           0|               0|               0|              1|    0|    0|            0|          0|           0|     0|         0|              0|                  0|           0|                    0|    1|                0|                 0|       0|            0|           0|             0|                      0|                    0|                      0|                     0|       0|         0|                       0|             0|                 0|                0|                    0|                   1|               0|        0|           0|    0|         0|       0|         0|                 0|          0|          0|      1|                   0|                  0|      0|         0|       0|      0|                   0|                0|               0|       0|       0|           0|                0|         0|                  0|                 0|              0|             0|   0|           0|      0|              0|        0|              0|                0|                0|               0|              0|               0|                 0|    0|    0|         0|     0|       0|             0|                0|               0|          0|    0|       0|            0|  0|                 0|                  0|                 0|                   0|         0|        0|         0|            0|           0|     0|              0|     0|            0|          0|          0|                       0|                     0|                      0|                    0|                   0|       0|        0|            0|         0|           0|                   0|        0|            0|                     0|         0|                     0|           0|                 0|        0|                     0|    0|         0|           0|                 0|        0|     0|                0|          0|          1|          0|                     0|           0|          0|              0|            0|               0|          0|              0|                  0|          0|          0|             0|           0|              0|          0|                   0|        0|        1|       0|                 0|                   0|         0|               0|                            0|           0|              0|             0|                         0|                        0|                0|       0|                    0|                      0|     0|       0|              0|           0|                 0|            0|          0|             0|     0|      0|             0|                     0|                0|                     0|                    0|                0|    0|   0|         0|          0|              0|             0|    0|                 0|                0|               0|            0|      0|        0|        0|                      0|            0|     0|                  0|             0|        0|          0|           0|          0|        0|                      0|               0|                0|                    0|                   0|        0|       0|                0|               0|       0|        0|          0|             0|            0|         0|   0|          0|             0|        0|         0|        0|                 0|        0|                 0|     0|          0|    0|                 0|     0|     0|       0|          0|      0|          0|            0|                     1|                       0|          0|          0|        0|               0|              0|             0|           0|         0|          0|       0|             0|           0|                   0|        0|                 0|              0|             0|                     0|           0|       0|                0|               0|                  0|              0|         0|          0|       0|           0|               0|      0|                    0|             0|   0|              0|                      0|           0|      0|                            0|                     0|        0|    0|           0|           0|       0|                                         0|              0|            0|            0|          0|       0|              0|            0|        0|      0|                 0|            0|                   0|                  1|        0|           0|            0|     0|                        0|     0|      0|    0|      0|                   0|            0|    0|              0|             0|           0|                               0|              1|                    0|                   0|        0|                 0|                 0|      0|          0|     0|       0|              0|    0|                  0|                 0|       0|                           0|                          0|      0|                       0|              0|              0|        0|       0|      0|      0|          0|                          0|       0|    0|         0|             0|             0|            0|          0|     0|             0|                  0|                     0|                    0|                 0|                0|             0|          0|      0|               0|             0|            0|     0|                 0|                0|                     0|                 0|      0|                              0|                             0|                        0|      0|             0|       0|        0|          0|   0|               0|       1|       0|    0|             0|            0|\n",
            "| 16|            dementia|              0|            0|            0|            0|                 0|                   1|                 0|                           0|                          0|       0|                0|               0|        0|   0|             0|               0|        1|              0|                    0|                            0|            0|               0|              0|       0|      0|      0|        0|         0|      0|        0|       0|           0|     0|     0|   0|              0|            0|        1|                   0|                                        0|       0|     0|                 0|                     0|          0|           0|                0|                       0|                      0|                   0|                  0|    0|                 0|                0|       0|           0|                      0|                   0|        0|              0|           0|               0|               0|              0|    0|    0|            0|          0|           0|     0|         0|              0|                  0|           0|                    0|    1|                0|                 0|       0|            0|           0|             0|                      0|                    0|                      0|                     0|       0|         0|                       0|             0|                 0|                0|                    0|                   0|               0|        0|           0|    0|         0|       0|         0|                 0|          0|          0|      0|                   0|                  0|      0|         1|       0|      0|                   0|                0|               0|       0|       0|           0|                0|         0|                  0|                 0|              0|             1|   1|           0|      0|              0|        0|              0|                0|                0|               0|              0|               0|                 0|    1|    0|         0|     0|       0|             0|                0|               0|          0|    0|       0|            0|  0|                 0|                  0|                 0|                   0|         0|        0|         0|            0|           0|     0|              0|     0|            0|          0|          0|                       0|                     0|                      1|                    0|                   0|       0|        0|            0|         0|           0|                   0|        0|            0|                     0|         0|                     0|           0|                 0|        0|                     0|    0|         0|           0|                 0|        0|     0|                0|          0|          0|          0|                     0|           0|          0|              0|            0|               0|          0|              0|                  0|          0|          0|             0|           0|              0|          0|                   0|        0|        0|       0|                 0|                   0|         0|               0|                            0|           0|              0|             0|                         0|                        0|                0|       0|                    0|                      0|     0|       1|              0|           0|                 0|            0|          0|             0|     0|      0|             0|                     0|                0|                     0|                    0|                0|    0|   0|         0|          0|              0|             0|    0|                 0|                0|               0|            0|      0|        0|        0|                      0|            0|     0|                  0|             0|        0|          0|           0|          0|        0|                      0|               0|                0|                    0|                   0|        0|       0|                0|               0|       0|        0|          0|             0|            0|         0|   1|          0|             0|        0|         0|        0|                 0|        0|                 0|     0|          0|    0|                 0|     0|     0|       0|          0|      0|          0|            0|                     0|                       0|          0|          0|        0|               0|              0|             0|           0|         0|          0|       0|             0|           0|                   0|        0|                 0|              0|             0|                     0|           0|       0|                0|               0|                  0|              0|         0|          0|       0|           0|               0|      0|                    0|             0|   1|              0|                      0|           0|      0|                            0|                     0|        0|    0|           0|           0|       1|                                         0|              0|            0|            0|          0|       0|              0|            0|        0|      0|                 0|            0|                   0|                  0|        0|           0|            0|     0|                        0|     0|      0|    0|      0|                   0|            0|    0|              0|             0|           0|                               0|              0|                    0|                   0|        0|                 0|                 0|      0|          0|     0|       0|              0|    0|                  0|                 0|       0|                           0|                          0|      1|                       0|              0|              0|        0|       0|      0|      0|          0|                          0|       0|    0|         0|             0|             0|            0|          0|     0|             0|                  0|                     0|                    0|                 0|                1|             0|          0|      0|               1|             0|            1|     0|                 0|                0|                     0|                 0|      0|                              0|                             0|                        0|      0|             0|       0|        0|          0|   0|               0|       0|       0|    0|             0|            0|\n",
            "| 17|insufficiency  renal|              0|            0|            0|            0|                 0|                   0|                 0|                           0|                          0|       0|                0|               0|        0|   0|             0|               0|        0|              0|                    0|                            0|            0|               0|              0|       0|      0|      0|        1|         0|      1|        0|       1|           0|     0|     0|   0|              0|            0|        0|                   0|                                        0|       0|     0|                 0|                     0|          0|           0|                0|                       0|                      1|                   0|                  0|    0|                 0|                0|       0|           0|                      0|                   0|        0|              0|           0|               0|               0|              0|    0|    0|            0|          0|           0|     0|         0|              0|                  0|           0|                    0|    0|                0|                 0|       0|            0|           0|             0|                      0|                    0|                      0|                     0|       1|         1|                       0|             0|                 0|                0|                    0|                   0|               0|        0|           0|    0|         0|       0|         0|                 0|          0|          0|      1|                   0|                  0|      0|         0|       0|      0|                   0|                0|               0|       0|       0|           0|                0|         0|                  0|                 0|              0|             0|   0|           0|      0|              0|        0|              0|                0|                0|               0|              0|               0|                 0|    0|    0|         0|     0|       0|             0|                0|               0|          0|    0|       0|            0|  0|                 0|                  0|                 0|                   0|         0|        0|         0|            0|           0|     0|              1|     0|            0|          0|          0|                       0|                     0|                      0|                    0|                   0|       0|        0|            0|         0|           0|                   0|        0|            0|                     0|         0|                     0|           0|                 0|        0|                     0|    0|         0|           0|                 0|        0|     0|                0|          0|          0|          0|                     0|           1|          0|              0|            0|               0|          0|              0|                  0|          0|          1|             0|           0|              0|          1|                   0|        0|        0|       0|                 0|                   0|         0|               0|                            0|           0|              0|             0|                         0|                        0|                0|       0|                    0|                      0|     0|       0|              0|           0|                 0|            0|          0|             0|     0|      0|             0|                     0|                0|                     0|                    1|                0|    0|   0|         0|          0|              0|             0|    0|                 0|                0|               0|            0|      0|        0|        0|                      0|            0|     0|                  0|             0|        0|          0|           0|          0|        0|                      0|               0|                0|                    0|                   0|        0|       0|                0|               0|       0|        1|          0|             0|            0|         0|   0|          0|             0|        0|         0|        0|                 0|        0|                 0|     0|          0|    0|                 0|     0|     0|       0|          0|      0|          0|            0|                     0|                       0|          0|          0|        0|               0|              0|             0|           0|         0|          0|       0|             0|           0|                   0|        0|                 0|              0|             0|                     0|           0|       0|                0|               0|                  0|              0|         0|          0|       0|           0|               0|      0|                    0|             0|   1|              0|                      0|           0|      0|                            0|                     0|        0|    0|           0|           0|       0|                                         0|              0|            0|            0|          0|       0|              0|            0|        0|      0|                 0|            0|                   0|                  1|        0|           0|            0|     0|                        0|     0|      0|    0|      0|                   0|            0|    0|              0|             0|           0|                               0|              0|                    0|                   0|        0|                 0|                 0|      0|          0|     0|       0|              0|    0|                  0|                 0|       1|                           0|                          0|      0|                       0|              0|              0|        0|       0|      0|      0|          0|                          0|       0|    0|         0|             0|             0|            0|          0|     0|             0|                  0|                     0|                    0|                 0|                0|             0|          0|      0|               0|             0|            0|     0|                 0|                0|                     1|                 0|      0|                              0|                             0|                        0|      0|             0|       0|        0|          0|   0|               0|       0|       0|    0|             0|            0|\n",
            "| 18|           confusion|              0|            0|            0|            0|                 0|                   0|                 0|                           0|                          0|       0|                0|               0|        0|   0|             0|               0|        1|              0|                    0|                            0|            0|               0|              0|       0|      0|      0|        0|         0|      0|        1|       1|           0|     0|     0|   0|              0|            0|        0|                   0|                                        0|       0|     0|                 0|                     0|          0|           0|                0|                       0|                      0|                   0|                  0|    0|                 0|                0|       0|           0|                      0|                   0|        0|              0|           0|               0|               0|              0|    0|    0|            0|          0|           0|     0|         0|              0|                  1|           0|                    0|    0|                0|                 0|       0|            0|           0|             0|                      0|                    0|                      0|                     0|       0|         0|                       0|             0|                 0|                0|                    0|                   0|               0|        1|           0|    0|         0|       0|         1|                 0|          0|          0|      0|                   0|                  0|      0|         0|       0|      0|                   0|                0|               0|       1|       0|           0|                0|         0|                  0|                 0|              0|             0|   1|           0|      0|              0|        0|              0|                0|                0|               0|              0|               0|                 0|    0|    0|         0|     0|       0|             0|                0|               0|          0|    0|       0|            0|  0|                 0|                  0|                 0|                   0|         0|        0|         0|            0|           0|     0|              0|     0|            0|          0|          0|                       0|                     0|                      0|                    0|                   0|       1|        0|            0|         0|           0|                   0|        0|            0|                     0|         0|                     0|           0|                 0|        0|                     0|    0|         0|           0|                 0|        0|     0|                0|          0|          0|          0|                     0|           0|          0|              0|            0|               0|          0|              0|                  0|          0|          0|             0|           1|              0|          0|                   0|        0|        0|       0|                 0|                   0|         0|               0|                            0|           0|              0|             0|                         0|                        0|                0|       0|                    0|                      0|     0|       1|              1|           0|                 0|            0|          0|             0|     0|      0|             0|                     0|                0|                     0|                    1|                0|    0|   0|         0|          0|              0|             0|    0|                 0|                0|               0|            1|      0|        0|        0|                      0|            0|     0|                  0|             0|        0|          0|           0|          0|        0|                      0|               0|                0|                    0|                   0|        0|       0|                0|               0|       0|        0|          0|             0|            0|         0|   0|          0|             0|        0|         0|        0|                 0|        0|                 0|     0|          0|    0|                 0|     0|     0|       0|          0|      0|          0|            0|                     0|                       0|          0|          0|        0|               0|              0|             0|           0|         0|          0|       0|             0|           0|                   0|        0|                 0|              0|             0|                     0|           0|       0|                0|               0|                  0|              0|         0|          0|       0|           0|               0|      0|                    0|             0|   0|              0|                      0|           0|      0|                            0|                     0|        0|    0|           0|           0|       0|                                         0|              0|            0|            0|          0|       0|              0|            0|        0|      1|                 0|            0|                   0|                  0|        0|           0|            0|     1|                        0|     0|      0|    0|      0|                   0|            0|    0|              0|             1|           0|                               0|              0|                    0|                   0|        0|                 0|                 0|      0|          0|     0|       0|              0|    0|                  0|                 0|       0|                           0|                          0|      0|                       0|              0|              0|        0|       0|      0|      0|          0|                          0|       0|    0|         0|             0|             0|            0|          0|     1|             0|                  0|                     0|                    0|                 0|                1|             0|          0|      0|               1|             0|            0|     0|                 0|                0|                     0|                 0|      0|                              0|                             0|                        0|      0|             0|       0|        0|          0|   0|               0|       0|       0|    0|             0|            0|\n",
            "| 19|degenerative  pol...|              0|            0|            0|            0|                 0|                   0|                 0|                           0|                          0|       0|                0|               0|        0|   0|             0|               0|        0|              0|                    0|                            0|            0|               0|              0|       0|      0|      0|        0|         0|      0|        0|       1|           0|     0|     0|   0|              0|            0|        0|                   0|                                        0|       0|     0|                 0|                     0|          0|           0|                0|                       0|                      0|                   0|                  0|    0|                 0|                0|       0|           0|                      0|                   0|        0|              0|           0|               0|               0|              0|    0|    0|            0|          0|           0|     0|         0|              0|                  0|           0|                    0|    0|                0|                 0|       0|            0|           0|             0|                      0|                    0|                      0|                     0|       0|         0|                       0|             0|                 0|                0|                    0|                   0|               0|        0|           0|    0|         1|       0|         0|                 0|          0|          0|      0|                   0|                  0|      0|         0|       0|      0|                   0|                0|               0|       0|       0|           0|                0|         0|                  0|                 0|              0|             0|   0|           0|      0|              0|        0|              0|                0|                0|               0|              0|               0|                 0|    0|    0|         0|     0|       0|             0|                1|               0|          0|    0|       0|            0|  0|                 0|                  1|                 0|                   0|         0|        0|         0|            0|           0|     0|              0|     0|            0|          0|          0|                       0|                     0|                      0|                    0|                   0|       0|        0|            0|         0|           0|                   0|        0|            0|                     0|         0|                     0|           0|                 0|        0|                     0|    0|         0|           0|                 0|        0|     0|                0|          0|          0|          0|                     0|           0|          0|              0|            0|               0|          0|              0|                  0|          0|          0|             0|           0|              0|          0|                   0|        0|        0|       0|                 0|                   0|         0|               0|                            0|           0|              0|             0|                         0|                        0|                0|       0|                    0|                      0|     0|       0|              0|           0|                 0|            0|          0|             0|     0|      0|             0|                     0|                0|                     0|                    0|                0|    0|   0|         0|          0|              0|             0|    0|                 0|                0|               0|            0|      0|        0|        0|                      0|            0|     0|                  0|             0|        0|          0|           0|          0|        0|                      0|               0|                0|                    1|                   0|        1|       0|                1|               0|       0|        0|          0|             0|            0|         0|   1|          0|             0|        0|         0|        0|                 0|        0|                 0|     0|          0|    0|                 0|     0|     0|       0|          0|      0|          0|            0|                     0|                       0|          0|          0|        0|               0|              0|             0|           0|         1|          0|       0|             0|           0|                   0|        0|                 0|              0|             0|                     0|           0|       0|                0|               0|                  0|              0|         0|          0|       0|           0|               0|      0|                    0|             0|   0|              0|                      0|           0|      0|                            0|                     0|        0|    0|           0|           0|       0|                                         0|              0|            0|            0|          0|       0|              0|            0|        0|      0|                 0|            0|                   0|                  0|        0|           0|            0|     0|                        0|     0|      0|    0|      0|                   0|            0|    0|              0|             0|           0|                               0|              0|                    0|                   0|        1|                 0|                 0|      0|          0|     0|       0|              0|    0|                  0|                 0|       0|                           0|                          0|      0|                       0|              0|              0|        0|       0|      0|      0|          0|                          0|       0|    0|         0|             0|             0|            0|          0|     0|             0|                  0|                     0|                    0|                 0|                0|             0|          0|      0|               0|             1|            0|     0|                 0|                0|                     0|                 0|      0|                              0|                             0|                        0|      0|             0|       0|        0|          0|   0|               0|       0|       0|    0|             0|            0|\n",
            "+---+--------------------+---------------+-------------+-------------+-------------+------------------+--------------------+------------------+----------------------------+---------------------------+--------+-----------------+----------------+---------+----+--------------+----------------+---------+---------------+---------------------+-----------------------------+-------------+----------------+---------------+--------+-------+-------+---------+----------+-------+---------+--------+------------+------+------+----+---------------+-------------+---------+--------------------+-----------------------------------------+--------+------+------------------+----------------------+-----------+------------+-----------------+------------------------+-----------------------+--------------------+-------------------+-----+------------------+-----------------+--------+------------+-----------------------+--------------------+---------+---------------+------------+----------------+----------------+---------------+-----+-----+-------------+-----------+------------+------+----------+---------------+-------------------+------------+---------------------+-----+-----------------+------------------+--------+-------------+------------+--------------+-----------------------+---------------------+-----------------------+----------------------+--------+----------+------------------------+--------------+------------------+-----------------+---------------------+--------------------+----------------+---------+------------+-----+----------+--------+----------+------------------+-----------+-----------+-------+--------------------+-------------------+-------+----------+--------+-------+--------------------+-----------------+----------------+--------+--------+------------+-----------------+----------+-------------------+------------------+---------------+--------------+----+------------+-------+---------------+---------+---------------+-----------------+-----------------+----------------+---------------+----------------+------------------+-----+-----+----------+------+--------+--------------+-----------------+----------------+-----------+-----+--------+-------------+---+------------------+-------------------+------------------+--------------------+----------+---------+----------+-------------+------------+------+---------------+------+-------------+-----------+-----------+------------------------+----------------------+-----------------------+---------------------+--------------------+--------+---------+-------------+----------+------------+--------------------+---------+-------------+----------------------+----------+----------------------+------------+------------------+---------+----------------------+-----+----------+------------+------------------+---------+------+-----------------+-----------+-----------+-----------+----------------------+------------+-----------+---------------+-------------+----------------+-----------+---------------+-------------------+-----------+-----------+--------------+------------+---------------+-----------+--------------------+---------+---------+--------+------------------+--------------------+----------+----------------+-----------------------------+------------+---------------+--------------+--------------------------+-------------------------+-----------------+--------+---------------------+-----------------------+------+--------+---------------+------------+------------------+-------------+-----------+--------------+------+-------+--------------+----------------------+-----------------+----------------------+---------------------+-----------------+-----+----+----------+-----------+---------------+--------------+-----+------------------+-----------------+----------------+-------------+-------+---------+---------+-----------------------+-------------+------+-------------------+--------------+---------+-----------+------------+-----------+---------+-----------------------+----------------+-----------------+---------------------+--------------------+---------+--------+-----------------+----------------+--------+---------+-----------+--------------+-------------+----------+----+-----------+--------------+---------+----------+---------+------------------+---------+------------------+------+-----------+-----+------------------+------+------+--------+-----------+-------+-----------+-------------+----------------------+------------------------+-----------+-----------+---------+----------------+---------------+--------------+------------+----------+-----------+--------+--------------+------------+--------------------+---------+------------------+---------------+--------------+----------------------+------------+--------+-----------------+----------------+-------------------+---------------+----------+-----------+--------+------------+----------------+-------+---------------------+--------------+----+---------------+-----------------------+------------+-------+-----------------------------+----------------------+---------+-----+------------+------------+--------+------------------------------------------+---------------+-------------+-------------+-----------+--------+---------------+-------------+---------+-------+------------------+-------------+--------------------+-------------------+---------+------------+-------------+------+-------------------------+------+-------+-----+-------+--------------------+-------------+-----+---------------+--------------+------------+--------------------------------+---------------+---------------------+--------------------+---------+------------------+------------------+-------+-----------+------+--------+---------------+-----+-------------------+------------------+--------+----------------------------+---------------------------+-------+------------------------+---------------+---------------+---------+--------+-------+-------+-----------+---------------------------+--------+-----+----------+--------------+--------------+-------------+-----------+------+--------------+-------------------+----------------------+---------------------+------------------+-----------------+--------------+-----------+-------+----------------+--------------+-------------+------+------------------+-----------------+----------------------+------------------+-------+-------------------------------+------------------------------+-------------------------+-------+--------------+--------+---------+-----------+----+----------------+--------+--------+-----+--------------+-------------+\n",
            "only showing top 20 rows\n",
            "\n"
          ]
        }
      ]
    },
    {
      "cell_type": "code",
      "source": [
        "final_symptoms_df.printSchema()"
      ],
      "metadata": {
        "colab": {
          "base_uri": "https://localhost:8080/"
        },
        "id": "yMlwiVQ4poLc",
        "outputId": "425ff558-cf4a-42aa-9529-99af32a843a1"
      },
      "execution_count": 38,
      "outputs": [
        {
          "output_type": "stream",
          "name": "stdout",
          "text": [
            "root\n",
            " |-- _c0: integer (nullable = true)\n",
            " |-- diseases: string (nullable = true)\n",
            " |-- Heberden's node: integer (nullable = true)\n",
            " |-- Murphy's sign: integer (nullable = true)\n",
            " |-- Stahli's line: integer (nullable = true)\n",
            " |-- abdomen acute: integer (nullable = true)\n",
            " |-- abdominal bloating: integer (nullable = true)\n",
            " |-- abdominal tenderness: integer (nullable = true)\n",
            " |-- abnormal sensation: integer (nullable = true)\n",
            " |-- abnormally  hard consistency: integer (nullable = true)\n",
            " |-- abnormally hard consistency: integer (nullable = true)\n",
            " |-- abortion: integer (nullable = true)\n",
            " |-- abscess bacterial: integer (nullable = true)\n",
            " |-- absences finding: integer (nullable = true)\n",
            " |-- achalasia: integer (nullable = true)\n",
            " |-- ache: integer (nullable = true)\n",
            " |-- adverse effect: integer (nullable = true)\n",
            " |-- adverse reaction: integer (nullable = true)\n",
            " |-- agitation: integer (nullable = true)\n",
            " |-- air fluid level: integer (nullable = true)\n",
            " |-- alcohol binge episode: integer (nullable = true)\n",
            " |-- alcoholic withdrawal symptoms: integer (nullable = true)\n",
            " |-- ambidexterity: integer (nullable = true)\n",
            " |-- angina  pectoris: integer (nullable = true)\n",
            " |-- angina pectoris: integer (nullable = true)\n",
            " |-- anorexia: integer (nullable = true)\n",
            " |-- anosmia: integer (nullable = true)\n",
            " |-- aphagia: integer (nullable = true)\n",
            " |-- apyrexial: integer (nullable = true)\n",
            " |-- arthralgia: integer (nullable = true)\n",
            " |-- ascites: integer (nullable = true)\n",
            " |-- asterixis: integer (nullable = true)\n",
            " |-- asthenia: integer (nullable = true)\n",
            " |-- asymptomatic: integer (nullable = true)\n",
            " |-- ataxia: integer (nullable = true)\n",
            " |-- atypia: integer (nullable = true)\n",
            " |-- aura: integer (nullable = true)\n",
            " |-- awakening early: integer (nullable = true)\n",
            " |-- barking cough: integer (nullable = true)\n",
            " |-- bedridden: integer (nullable = true)\n",
            " |-- behavior hyperactive: integer (nullable = true)\n",
            " |-- behavior showing increased motor activity: integer (nullable = true)\n",
            " |-- blackout: integer (nullable = true)\n",
            " |-- blanch: integer (nullable = true)\n",
            " |-- bleeding of vagina: integer (nullable = true)\n",
            " |-- bowel sounds decreased: integer (nullable = true)\n",
            " |-- bradycardia: integer (nullable = true)\n",
            " |-- bradykinesia: integer (nullable = true)\n",
            " |-- breakthrough pain: integer (nullable = true)\n",
            " |-- breath  sounds decreased: integer (nullable = true)\n",
            " |-- breath sounds decreased: integer (nullable = true)\n",
            " |-- breath-holding spell: integer (nullable = true)\n",
            " |-- breech presentation: integer (nullable = true)\n",
            " |-- bruit: integer (nullable = true)\n",
            " |-- burning  sensation: integer (nullable = true)\n",
            " |-- burning sensation: integer (nullable = true)\n",
            " |-- cachexia: integer (nullable = true)\n",
            " |-- cardiomegaly: integer (nullable = true)\n",
            " |-- cardiovascular  finding: integer (nullable = true)\n",
            " |-- cardiovascular event: integer (nullable = true)\n",
            " |-- catatonia: integer (nullable = true)\n",
            " |-- catching breath: integer (nullable = true)\n",
            " |-- charleyhorse: integer (nullable = true)\n",
            " |-- chest  tightness: integer (nullable = true)\n",
            " |-- chest discomfort: integer (nullable = true)\n",
            " |-- chest tightness: integer (nullable = true)\n",
            " |-- chill: integer (nullable = true)\n",
            " |-- choke: integer (nullable = true)\n",
            " |-- cicatrisation: integer (nullable = true)\n",
            " |-- clammy skin: integer (nullable = true)\n",
            " |-- claudication: integer (nullable = true)\n",
            " |-- clonus: integer (nullable = true)\n",
            " |-- clumsiness: integer (nullable = true)\n",
            " |-- colic abdominal: integer (nullable = true)\n",
            " |-- consciousness clear: integer (nullable = true)\n",
            " |-- constipation: integer (nullable = true)\n",
            " |-- coordination abnormal: integer (nullable = true)\n",
            " |-- cough: integer (nullable = true)\n",
            " |-- cushingoid facies: integer (nullable = true)\n",
            " |-- cushingoid habitus: integer (nullable = true)\n",
            " |-- cyanosis: integer (nullable = true)\n",
            " |-- cystic lesion: integer (nullable = true)\n",
            " |-- debilitation: integer (nullable = true)\n",
            " |-- decompensation: integer (nullable = true)\n",
            " |-- decreased  translucency: integer (nullable = true)\n",
            " |-- decreased body weight: integer (nullable = true)\n",
            " |-- decreased stool caliber: integer (nullable = true)\n",
            " |-- decreased translucency: integer (nullable = true)\n",
            " |-- diarrhea: integer (nullable = true)\n",
            " |-- difficulty: integer (nullable = true)\n",
            " |-- difficulty passing urine: integer (nullable = true)\n",
            " |-- disequilibrium: integer (nullable = true)\n",
            " |-- distended  abdomen: integer (nullable = true)\n",
            " |-- distended abdomen: integer (nullable = true)\n",
            " |-- distress  respiratory: integer (nullable = true)\n",
            " |-- distress respiratory: integer (nullable = true)\n",
            " |-- disturbed family: integer (nullable = true)\n",
            " |-- dizziness: integer (nullable = true)\n",
            " |-- dizzy spells: integer (nullable = true)\n",
            " |-- drool: integer (nullable = true)\n",
            " |-- drowsiness: integer (nullable = true)\n",
            " |-- dullness: integer (nullable = true)\n",
            " |-- dysarthria: integer (nullable = true)\n",
            " |-- dysdiadochokinesia: integer (nullable = true)\n",
            " |-- dysesthesia: integer (nullable = true)\n",
            " |-- dyspareunia: integer (nullable = true)\n",
            " |-- dyspnea: integer (nullable = true)\n",
            " |-- dyspnea  on exertion: integer (nullable = true)\n",
            " |-- dyspnea on exertion: integer (nullable = true)\n",
            " |-- dysuria: integer (nullable = true)\n",
            " |-- ecchymosis: integer (nullable = true)\n",
            " |-- egophony: integer (nullable = true)\n",
            " |-- elation: integer (nullable = true)\n",
            " |-- emphysematous change: integer (nullable = true)\n",
            " |-- energy  increased: integer (nullable = true)\n",
            " |-- energy increased: integer (nullable = true)\n",
            " |-- enuresis: integer (nullable = true)\n",
            " |-- erythema: integer (nullable = true)\n",
            " |-- estrogen use: integer (nullable = true)\n",
            " |-- excruciating pain: integer (nullable = true)\n",
            " |-- exhaustion: integer (nullable = true)\n",
            " |-- extrapyramidal sign: integer (nullable = true)\n",
            " |-- extreme exhaustion: integer (nullable = true)\n",
            " |-- facial  paresis: integer (nullable = true)\n",
            " |-- facial paresis: integer (nullable = true)\n",
            " |-- fall: integer (nullable = true)\n",
            " |-- fatigability: integer (nullable = true)\n",
            " |-- fatigue: integer (nullable = true)\n",
            " |-- fear of falling: integer (nullable = true)\n",
            " |-- fecaluria: integer (nullable = true)\n",
            " |-- feces in rectum: integer (nullable = true)\n",
            " |-- feeling  hopeless: integer (nullable = true)\n",
            " |-- feeling  suicidal: integer (nullable = true)\n",
            " |-- feeling hopeless: integer (nullable = true)\n",
            " |-- feeling strange: integer (nullable = true)\n",
            " |-- feeling suicidal: integer (nullable = true)\n",
            " |-- feels hot/feverish: integer (nullable = true)\n",
            " |-- fever: integer (nullable = true)\n",
            " |-- flare: integer (nullable = true)\n",
            " |-- flatulence: integer (nullable = true)\n",
            " |-- floppy: integer (nullable = true)\n",
            " |-- flushing: integer (nullable = true)\n",
            " |-- focal seizures: integer (nullable = true)\n",
            " |-- food  intolerance: integer (nullable = true)\n",
            " |-- food intolerance: integer (nullable = true)\n",
            " |-- formication: integer (nullable = true)\n",
            " |-- frail: integer (nullable = true)\n",
            " |-- fremitus: integer (nullable = true)\n",
            " |-- frothy sputum: integer (nullable = true)\n",
            " |-- gag: integer (nullable = true)\n",
            " |-- gasping for breath: integer (nullable = true)\n",
            " |-- general  discomfort: integer (nullable = true)\n",
            " |-- general discomfort: integer (nullable = true)\n",
            " |-- general unsteadiness: integer (nullable = true)\n",
            " |-- giddy mood: integer (nullable = true)\n",
            " |-- gravida 0: integer (nullable = true)\n",
            " |-- gravida 10: integer (nullable = true)\n",
            " |-- green  sputum: integer (nullable = true)\n",
            " |-- green sputum: integer (nullable = true)\n",
            " |-- groggy: integer (nullable = true)\n",
            " |-- guaiac positive: integer (nullable = true)\n",
            " |-- gurgle: integer (nullable = true)\n",
            " |-- hacking cough: integer (nullable = true)\n",
            " |-- haemoptysis: integer (nullable = true)\n",
            " |-- haemorrhage: integer (nullable = true)\n",
            " |-- hallucinations  auditory: integer (nullable = true)\n",
            " |-- hallucinations  visual: integer (nullable = true)\n",
            " |-- hallucinations auditory: integer (nullable = true)\n",
            " |-- hallucinations visual: integer (nullable = true)\n",
            " |-- has religious belief: integer (nullable = true)\n",
            " |-- headache: integer (nullable = true)\n",
            " |-- heartburn: integer (nullable = true)\n",
            " |-- heavy feeling: integer (nullable = true)\n",
            " |-- heavy legs: integer (nullable = true)\n",
            " |-- hematochezia: integer (nullable = true)\n",
            " |-- hematocrit decreased: integer (nullable = true)\n",
            " |-- hematuria: integer (nullable = true)\n",
            " |-- heme positive: integer (nullable = true)\n",
            " |-- hemianopsia homonymous: integer (nullable = true)\n",
            " |-- hemiplegia: integer (nullable = true)\n",
            " |-- hemodynamically stable: integer (nullable = true)\n",
            " |-- hepatomegaly: integer (nullable = true)\n",
            " |-- hepatosplenomegaly: integer (nullable = true)\n",
            " |-- hirsutism: integer (nullable = true)\n",
            " |-- history  of - blackout: integer (nullable = true)\n",
            " |-- hoard: integer (nullable = true)\n",
            " |-- hoarseness: integer (nullable = true)\n",
            " |-- homelessness: integer (nullable = true)\n",
            " |-- homicidal thoughts: integer (nullable = true)\n",
            " |-- hot flush: integer (nullable = true)\n",
            " |-- hunger: integer (nullable = true)\n",
            " |-- hydropneumothorax: integer (nullable = true)\n",
            " |-- hyperacusis: integer (nullable = true)\n",
            " |-- hypercapnia: integer (nullable = true)\n",
            " |-- hyperemesis: integer (nullable = true)\n",
            " |-- hyperhidrosis disorder: integer (nullable = true)\n",
            " |-- hyperkalemia: integer (nullable = true)\n",
            " |-- hypersomnia: integer (nullable = true)\n",
            " |-- hypersomnolence: integer (nullable = true)\n",
            " |-- hypertonicity: integer (nullable = true)\n",
            " |-- hyperventilation: integer (nullable = true)\n",
            " |-- hypesthesia: integer (nullable = true)\n",
            " |-- hypoalbuminemia: integer (nullable = true)\n",
            " |-- hypocalcemia result: integer (nullable = true)\n",
            " |-- hypokalemia: integer (nullable = true)\n",
            " |-- hypokinesia: integer (nullable = true)\n",
            " |-- hypometabolism: integer (nullable = true)\n",
            " |-- hyponatremia: integer (nullable = true)\n",
            " |-- hypoproteinemia: integer (nullable = true)\n",
            " |-- hypotension: integer (nullable = true)\n",
            " |-- hypothermia, natural: integer (nullable = true)\n",
            " |-- hypotonic: integer (nullable = true)\n",
            " |-- hypoxemia: integer (nullable = true)\n",
            " |-- immobile: integer (nullable = true)\n",
            " |-- impaired cognition: integer (nullable = true)\n",
            " |-- inappropriate affect: integer (nullable = true)\n",
            " |-- incoherent: integer (nullable = true)\n",
            " |-- indifferent mood: integer (nullable = true)\n",
            " |-- intermenstrual heavy bleeding: integer (nullable = true)\n",
            " |-- intoxication: integer (nullable = true)\n",
            " |-- irritable  mood: integer (nullable = true)\n",
            " |-- irritable mood: integer (nullable = true)\n",
            " |-- jugular  venous distention: integer (nullable = true)\n",
            " |-- jugular venous distention: integer (nullable = true)\n",
            " |-- labored breathing: integer (nullable = true)\n",
            " |-- lameness: integer (nullable = true)\n",
            " |-- large-for-dates fetus: integer (nullable = true)\n",
            " |-- left atrial hypertrophy: integer (nullable = true)\n",
            " |-- lesion: integer (nullable = true)\n",
            " |-- lethargy: integer (nullable = true)\n",
            " |-- lightheadedness: integer (nullable = true)\n",
            " |-- lip smacking: integer (nullable = true)\n",
            " |-- loose associations: integer (nullable = true)\n",
            " |-- low back pain: integer (nullable = true)\n",
            " |-- lung nodule: integer (nullable = true)\n",
            " |-- macerated skin: integer (nullable = true)\n",
            " |-- macule: integer (nullable = true)\n",
            " |-- malaise: integer (nullable = true)\n",
            " |-- mass in breast: integer (nullable = true)\n",
            " |-- mass of body structure: integer (nullable = true)\n",
            " |-- mediastinal shift: integer (nullable = true)\n",
            " |-- mental  status changes: integer (nullable = true)\n",
            " |-- mental status changes: integer (nullable = true)\n",
            " |-- metastatic lesion: integer (nullable = true)\n",
            " |-- milky: integer (nullable = true)\n",
            " |-- moan: integer (nullable = true)\n",
            " |-- monoclonal: integer (nullable = true)\n",
            " |-- monocytosis: integer (nullable = true)\n",
            " |-- mood  depressed: integer (nullable = true)\n",
            " |-- mood depressed: integer (nullable = true)\n",
            " |-- moody: integer (nullable = true)\n",
            " |-- motor  retardation: integer (nullable = true)\n",
            " |-- motor retardation: integer (nullable = true)\n",
            " |-- muscle hypotonia: integer (nullable = true)\n",
            " |-- muscle twitch: integer (nullable = true)\n",
            " |-- myalgia: integer (nullable = true)\n",
            " |-- mydriasis: integer (nullable = true)\n",
            " |-- myoclonus: integer (nullable = true)\n",
            " |-- nasal discharge present: integer (nullable = true)\n",
            " |-- nasal flaring: integer (nullable = true)\n",
            " |-- nausea: integer (nullable = true)\n",
            " |-- nausea and vomiting: integer (nullable = true)\n",
            " |-- neck stiffness: integer (nullable = true)\n",
            " |-- neologism: integer (nullable = true)\n",
            " |-- nervousness: integer (nullable = true)\n",
            " |-- night  sweat: integer (nullable = true)\n",
            " |-- night sweat: integer (nullable = true)\n",
            " |-- nightmare: integer (nullable = true)\n",
            " |-- no known drug allergies: integer (nullable = true)\n",
            " |-- no status change: integer (nullable = true)\n",
            " |-- noisy respiration: integer (nullable = true)\n",
            " |-- non-productive  cough: integer (nullable = true)\n",
            " |-- non-productive cough: integer (nullable = true)\n",
            " |-- nonsmoker: integer (nullable = true)\n",
            " |-- numbness: integer (nullable = true)\n",
            " |-- numbness  of hand: integer (nullable = true)\n",
            " |-- numbness of hand: integer (nullable = true)\n",
            " |-- oliguria: integer (nullable = true)\n",
            " |-- orthopnea: integer (nullable = true)\n",
            " |-- orthostasis: integer (nullable = true)\n",
            " |-- out  of breath: integer (nullable = true)\n",
            " |-- out of breath: integer (nullable = true)\n",
            " |-- overweight: integer (nullable = true)\n",
            " |-- pain: integer (nullable = true)\n",
            " |-- pain  chest: integer (nullable = true)\n",
            " |-- pain abdominal: integer (nullable = true)\n",
            " |-- pain back: integer (nullable = true)\n",
            " |-- pain chest: integer (nullable = true)\n",
            " |-- pain foot: integer (nullable = true)\n",
            " |-- pain in lower limb: integer (nullable = true)\n",
            " |-- pain neck: integer (nullable = true)\n",
            " |-- painful swallowing: integer (nullable = true)\n",
            " |-- pallor: integer (nullable = true)\n",
            " |-- palpitation: integer (nullable = true)\n",
            " |-- panic: integer (nullable = true)\n",
            " |-- pansystolic murmur: integer (nullable = true)\n",
            " |-- para 1: integer (nullable = true)\n",
            " |-- para 2: integer (nullable = true)\n",
            " |-- paralyse: integer (nullable = true)\n",
            " |-- paraparesis: integer (nullable = true)\n",
            " |-- paresis: integer (nullable = true)\n",
            " |-- paresthesia: integer (nullable = true)\n",
            " |-- passed stones: integer (nullable = true)\n",
            " |-- patient non compliance: integer (nullable = true)\n",
            " |-- pericardial friction rub: integer (nullable = true)\n",
            " |-- phonophobia: integer (nullable = true)\n",
            " |-- photophobia: integer (nullable = true)\n",
            " |-- photopsia: integer (nullable = true)\n",
            " |-- pin-point pupils: integer (nullable = true)\n",
            " |-- pleuritic  pain: integer (nullable = true)\n",
            " |-- pleuritic pain: integer (nullable = true)\n",
            " |-- pneumatouria: integer (nullable = true)\n",
            " |-- polydypsia: integer (nullable = true)\n",
            " |-- polymyalgia: integer (nullable = true)\n",
            " |-- polyuria: integer (nullable = true)\n",
            " |-- poor dentition: integer (nullable = true)\n",
            " |-- poor feeding: integer (nullable = true)\n",
            " |-- posterior rhinorrhea: integer (nullable = true)\n",
            " |-- posturing: integer (nullable = true)\n",
            " |-- presence of q wave: integer (nullable = true)\n",
            " |-- pressure  chest: integer (nullable = true)\n",
            " |-- pressure chest: integer (nullable = true)\n",
            " |-- previous pregnancies 2: integer (nullable = true)\n",
            " |-- primigravida: integer (nullable = true)\n",
            " |-- prodrome: integer (nullable = true)\n",
            " |-- productive  cough: integer (nullable = true)\n",
            " |-- productive cough: integer (nullable = true)\n",
            " |-- projectile vomiting: integer (nullable = true)\n",
            " |-- prostate tender: integer (nullable = true)\n",
            " |-- prostatism: integer (nullable = true)\n",
            " |-- proteinemia: integer (nullable = true)\n",
            " |-- pruritus: integer (nullable = true)\n",
            " |-- pulse absent: integer (nullable = true)\n",
            " |-- pulsus paradoxus: integer (nullable = true)\n",
            " |-- pustule: integer (nullable = true)\n",
            " |-- qt interval prolonged: integer (nullable = true)\n",
            " |-- r wave feature: integer (nullable = true)\n",
            " |-- rale: integer (nullable = true)\n",
            " |-- rambling speech: integer (nullable = true)\n",
            " |-- rapid shallow breathing: integer (nullable = true)\n",
            " |-- red blotches: integer (nullable = true)\n",
            " |-- redness: integer (nullable = true)\n",
            " |-- regurgitates after swallowing: integer (nullable = true)\n",
            " |-- renal angle tenderness: integer (nullable = true)\n",
            " |-- rest pain: integer (nullable = true)\n",
            " |-- retch: integer (nullable = true)\n",
            " |-- retropulsion: integer (nullable = true)\n",
            " |-- rhd positive: integer (nullable = true)\n",
            " |-- rhonchus: integer (nullable = true)\n",
            " |-- rigor - temperature-associated observation: integer (nullable = true)\n",
            " |-- rolling of eyes: integer (nullable = true)\n",
            " |-- room spinning: integer (nullable = true)\n",
            " |-- satiety early: integer (nullable = true)\n",
            " |-- scar tissue: integer (nullable = true)\n",
            " |-- sciatica: integer (nullable = true)\n",
            " |-- scleral icterus: integer (nullable = true)\n",
            " |-- scratch marks: integer (nullable = true)\n",
            " |-- sedentary: integer (nullable = true)\n",
            " |-- seizure: integer (nullable = true)\n",
            " |-- sensory discomfort: integer (nullable = true)\n",
            " |-- shooting pain: integer (nullable = true)\n",
            " |-- shortness  of breath: integer (nullable = true)\n",
            " |-- shortness of breath: integer (nullable = true)\n",
            " |-- side pain: integer (nullable = true)\n",
            " |-- sinus rhythm: integer (nullable = true)\n",
            " |-- sleeplessness: integer (nullable = true)\n",
            " |-- sleepy: integer (nullable = true)\n",
            " |-- slowing of urinary stream: integer (nullable = true)\n",
            " |-- sneeze: integer (nullable = true)\n",
            " |-- sniffle: integer (nullable = true)\n",
            " |-- snore: integer (nullable = true)\n",
            " |-- snuffle: integer (nullable = true)\n",
            " |-- soft tissue swelling: integer (nullable = true)\n",
            " |-- sore to touch: integer (nullable = true)\n",
            " |-- spasm: integer (nullable = true)\n",
            " |-- speech  slurred: integer (nullable = true)\n",
            " |-- speech slurred: integer (nullable = true)\n",
            " |-- splenomegaly: integer (nullable = true)\n",
            " |-- spontaneous rupture of membranes: integer (nullable = true)\n",
            " |-- sputum purulent: integer (nullable = true)\n",
            " |-- st segment depression: integer (nullable = true)\n",
            " |-- st segment elevation: integer (nullable = true)\n",
            " |-- stiffness: integer (nullable = true)\n",
            " |-- stinging sensation: integer (nullable = true)\n",
            " |-- stool color yellow: integer (nullable = true)\n",
            " |-- stridor: integer (nullable = true)\n",
            " |-- stuffy nose: integer (nullable = true)\n",
            " |-- stupor: integer (nullable = true)\n",
            " |-- suicidal: integer (nullable = true)\n",
            " |-- superimposition: integer (nullable = true)\n",
            " |-- sweat: integer (nullable = true)\n",
            " |-- sweating  increased: integer (nullable = true)\n",
            " |-- sweating increased: integer (nullable = true)\n",
            " |-- swelling: integer (nullable = true)\n",
            " |-- symptom  aggravating factors: integer (nullable = true)\n",
            " |-- symptom aggravating factors: integer (nullable = true)\n",
            " |-- syncope: integer (nullable = true)\n",
            " |-- systolic ejection murmur: integer (nullable = true)\n",
            " |-- systolic murmur: integer (nullable = true)\n",
            " |-- t wave inverted: integer (nullable = true)\n",
            " |-- tachypnea: integer (nullable = true)\n",
            " |-- tenesmus: integer (nullable = true)\n",
            " |-- terrify: integer (nullable = true)\n",
            " |-- thicken: integer (nullable = true)\n",
            " |-- throat sore: integer (nullable = true)\n",
            " |-- throbbing sensation quality: integer (nullable = true)\n",
            " |-- tinnitus: integer (nullable = true)\n",
            " |-- tired: integer (nullable = true)\n",
            " |-- titubation: integer (nullable = true)\n",
            " |-- todd paralysis: integer (nullable = true)\n",
            " |-- tonic seizures: integer (nullable = true)\n",
            " |-- transaminitis: integer (nullable = true)\n",
            " |-- transsexual: integer (nullable = true)\n",
            " |-- tremor: integer (nullable = true)\n",
            " |-- tremor resting: integer (nullable = true)\n",
            " |-- tumor cell invasion: integer (nullable = true)\n",
            " |-- unable  to concentrate: integer (nullable = true)\n",
            " |-- unable to concentrate: integer (nullable = true)\n",
            " |-- unconscious  state: integer (nullable = true)\n",
            " |-- unconscious state: integer (nullable = true)\n",
            " |-- uncoordination: integer (nullable = true)\n",
            " |-- underweight: integer (nullable = true)\n",
            " |-- unhappy: integer (nullable = true)\n",
            " |-- unresponsiveness: integer (nullable = true)\n",
            " |-- unsteady  gait: integer (nullable = true)\n",
            " |-- unsteady gait: integer (nullable = true)\n",
            " |-- unwell: integer (nullable = true)\n",
            " |-- urge  incontinence: integer (nullable = true)\n",
            " |-- urge incontinence: integer (nullable = true)\n",
            " |-- urgency of micturition: integer (nullable = true)\n",
            " |-- urinary hesitation: integer (nullable = true)\n",
            " |-- urinoma: integer (nullable = true)\n",
            " |-- verbal  auditory hallucinations: integer (nullable = true)\n",
            " |-- verbal auditory hallucinations: integer (nullable = true)\n",
            " |-- verbally abusive behavior: integer (nullable = true)\n",
            " |-- vertigo: integer (nullable = true)\n",
            " |-- vision blurred: integer (nullable = true)\n",
            " |-- vomiting: integer (nullable = true)\n",
            " |-- weepiness: integer (nullable = true)\n",
            " |-- weight gain: integer (nullable = true)\n",
            " |-- welt: integer (nullable = true)\n",
            " |-- wheelchair bound: integer (nullable = true)\n",
            " |-- wheezing: integer (nullable = true)\n",
            " |-- withdraw: integer (nullable = true)\n",
            " |-- worry: integer (nullable = true)\n",
            " |-- yellow  sputum: integer (nullable = true)\n",
            " |-- yellow sputum: integer (nullable = true)\n",
            "\n"
          ]
        }
      ]
    },
    {
      "cell_type": "markdown",
      "source": [
        "#Next steps:\n",
        "\n",
        "1. Team will check if ETL process was correctly accomplished.\n",
        "\n",
        "2. Discuss the two dataset and comeup with thesis to apply ML techniques."
      ],
      "metadata": {
        "id": "K7SnnmSapzs-"
      }
    },
    {
      "cell_type": "code",
      "source": [
        ""
      ],
      "metadata": {
        "id": "PygGW34Jpq8N"
      },
      "execution_count": null,
      "outputs": []
    }
  ]
}